{
 "cells": [
  {
   "cell_type": "code",
   "execution_count": 1,
   "metadata": {
    "collapsed": true
   },
   "outputs": [],
   "source": [
    "# Python学习经验分享"
   ]
  },
  {
   "cell_type": "code",
   "execution_count": 2,
   "metadata": {
    "collapsed": true
   },
   "outputs": [],
   "source": [
    "# 1. 为什么选择Python\n",
    "# - 环境配置简单\n",
    "# - 学习成本低\n",
    "# - 学习曲线平缓\n",
    "# - 应用广泛，从运维、爬虫、数据分析、机器学习、web开发、量化交易和各种功能整合。"
   ]
  },
  {
   "cell_type": "code",
   "execution_count": 3,
   "metadata": {
    "collapsed": true
   },
   "outputs": [],
   "source": [
    "# 2. 编程学习经验分享\n",
    "# - 练习练习练习！！！代码就算抄一遍也会抄错的。\n",
    "# - 多做笔记，建立自己的知识库。\n",
    "# - 实现、改进、优化，早期不要钻牛角尖。\n",
    "# - 我的一些github项目分享\n",
    "#   - 爬虫：https://github.com/yingl/sc_fashion\n",
    "#   - 数据结构和算法刷题：https://github.com/yingl/LintCodeInPython\n",
    "#   - 数据分析教学：https://github.com/yingl/pydata-book\n",
    "#   - 区块链模拟实现：https://github.com/yingl/bc_demo\n",
    "#   - OKEX行情助手：https://github.com/yingl/bithelper\n",
    "# - 教程推荐：https://www.liaoxuefeng.com/wiki/0014316089557264a6b348958f449949df42a6d3a2e542c000\n",
    "# - Anaconda：https://anaconda.org/"
   ]
  },
  {
   "cell_type": "code",
   "execution_count": 4,
   "metadata": {
    "collapsed": true
   },
   "outputs": [],
   "source": [
    "# 3. Python语言的特点"
   ]
  },
  {
   "cell_type": "code",
   "execution_count": 1,
   "metadata": {
    "collapsed": false
   },
   "outputs": [
    {
     "name": "stdout",
     "output_type": "stream",
     "text": [
      "<class 'str'>\n",
      "<class 'int'>\n",
      "<class 'float'>\n"
     ]
    }
   ],
   "source": [
    "# 弱类型，变量类型根据赋值决定。\n",
    "x = 'abc'\n",
    "print(type(x))\n",
    "x = 123\n",
    "print(type(x))\n",
    "x = 12.34\n",
    "print(type(x))"
   ]
  },
  {
   "cell_type": "code",
   "execution_count": 1,
   "metadata": {
    "collapsed": false
   },
   "outputs": [
    {
     "name": "stdout",
     "output_type": "stream",
     "text": [
      "Here is the entry of main.\n"
     ]
    }
   ],
   "source": [
    "# main函数入口在哪里\n",
    "if __name__ == '__main__':\n",
    "    print('Here is the entry of main.')"
   ]
  },
  {
   "cell_type": "code",
   "execution_count": 9,
   "metadata": {
    "collapsed": false
   },
   "outputs": [
    {
     "name": "stdout",
     "output_type": "stream",
     "text": [
      "6\n",
      "30\n",
      "15\n",
      "42\n"
     ]
    }
   ],
   "source": [
    "# 函数是一等公民！\n",
    "def f(x, y):\n",
    "    return x * y\n",
    "\n",
    "fxy = f\n",
    "print(fxy(2, 3))\n",
    "\n",
    "def fcall(f, x, y):\n",
    "    return f(x, y)\n",
    "\n",
    "print(fcall(f, 5, 6))\n",
    "\n",
    "def fret(x, y): # 返回函数\n",
    "    def f():\n",
    "        return x * y\n",
    "    return f\n",
    "\n",
    "f = fret(3, 5)\n",
    "print(f())\n",
    "f = fret(6, 7)\n",
    "print(f())"
   ]
  },
  {
   "cell_type": "code",
   "execution_count": 8,
   "metadata": {
    "collapsed": false
   },
   "outputs": [
    {
     "name": "stdout",
     "output_type": "stream",
     "text": [
      "<class 'int'>\n",
      "['__abs__', '__add__', '__and__', '__bool__', '__ceil__', '__class__', '__delattr__', '__dir__', '__divmod__', '__doc__', '__eq__', '__float__', '__floor__', '__floordiv__', '__format__', '__ge__', '__getattribute__', '__getnewargs__', '__gt__', '__hash__', '__index__', '__init__', '__init_subclass__', '__int__', '__invert__', '__le__', '__lshift__', '__lt__', '__mod__', '__mul__', '__ne__', '__neg__', '__new__', '__or__', '__pos__', '__pow__', '__radd__', '__rand__', '__rdivmod__', '__reduce__', '__reduce_ex__', '__repr__', '__rfloordiv__', '__rlshift__', '__rmod__', '__rmul__', '__ror__', '__round__', '__rpow__', '__rrshift__', '__rshift__', '__rsub__', '__rtruediv__', '__rxor__', '__setattr__', '__sizeof__', '__str__', '__sub__', '__subclasshook__', '__truediv__', '__trunc__', '__xor__', 'bit_length', 'conjugate', 'denominator', 'from_bytes', 'imag', 'numerator', 'real', 'to_bytes']\n",
      "<class 'type'>\n",
      "['__class__', '__delattr__', '__dict__', '__dir__', '__doc__', '__eq__', '__format__', '__ge__', '__getattribute__', '__gt__', '__hash__', '__init__', '__init_subclass__', '__le__', '__lt__', '__module__', '__ne__', '__new__', '__reduce__', '__reduce_ex__', '__repr__', '__setattr__', '__sizeof__', '__str__', '__subclasshook__', '__weakref__']\n"
     ]
    }
   ],
   "source": [
    "# 一切都是对象\n",
    "x = 100 # 基本数据类型也不例外\n",
    "print(type(x))\n",
    "print(dir(x))\n",
    "\n",
    "class Obj(object):\n",
    "    pass\n",
    "\n",
    "print(type(Obj)) # 类型本身也是对象\n",
    "print(dir(Obj))"
   ]
  },
  {
   "cell_type": "code",
   "execution_count": 10,
   "metadata": {
    "collapsed": false
   },
   "outputs": [
    {
     "name": "stdout",
     "output_type": "stream",
     "text": [
      "[1, 2, 3, 4, 5]\n",
      "[1, 2, 3, 4, 5]\n",
      "[1, 2, 3, 4, 5]\n",
      "[1, 2, 3, 4, 5]\n",
      "[1, 2, 3, 4, 5]\n",
      "a 1\n",
      "b 2\n",
      "c three\n"
     ]
    }
   ],
   "source": [
    "# 容器优先使用for ... in循环\n",
    "li = [1, 2, 3, 4, 5]\n",
    "for i in li:\n",
    "    print(li)\n",
    "    \n",
    "di = {'a': 1, 'b': 2, 'c': 'three'}\n",
    "for k, v in di.items():\n",
    "    print(k, v)"
   ]
  },
  {
   "cell_type": "code",
   "execution_count": 12,
   "metadata": {
    "collapsed": false
   },
   "outputs": [
    {
     "name": "stdout",
     "output_type": "stream",
     "text": [
      "1\n",
      "1\n",
      "2\n",
      "3\n",
      "5\n",
      "8\n",
      "13\n",
      "21\n",
      "34\n",
      "55\n"
     ]
    }
   ],
   "source": [
    "# 利用yield主动交出函数控制权\n",
    "def fib(n):\n",
    "    a, b = 0, 1\n",
    "    for i in range(n):\n",
    "        a, b = b, a + b\n",
    "        yield a\n",
    "        \n",
    "for i in fib(10):\n",
    "    print(i)"
   ]
  },
  {
   "cell_type": "code",
   "execution_count": 3,
   "metadata": {
    "collapsed": false
   },
   "outputs": [
    {
     "name": "stdout",
     "output_type": "stream",
     "text": [
      "1\n",
      "2\n",
      "3\n",
      "4\n",
      "5\n",
      "6\n",
      "7\n",
      "8\n",
      "9\n",
      "10\n"
     ]
    }
   ],
   "source": [
    "li = [1, 2, 3, 4, 5, 6, 7, 8, 9, 10]\n",
    "\n",
    "def myrange(n):\n",
    "    i = 0\n",
    "    while i < n:\n",
    "        yield i\n",
    "        i += 1\n",
    "\n",
    "for i in myrange(len(li)): # range => p2: xrange\n",
    "    print(li[i])"
   ]
  },
  {
   "cell_type": "code",
   "execution_count": 1,
   "metadata": {
    "collapsed": true
   },
   "outputs": [],
   "source": [
    "# 4. Python常用库及基本功能演示"
   ]
  },
  {
   "cell_type": "code",
   "execution_count": 3,
   "metadata": {
    "collapsed": false
   },
   "outputs": [
    {
     "name": "stdout",
     "output_type": "stream",
     "text": [
      "北京市\n",
      "\t通县, 101100\n",
      "\t东城区, 100010\n",
      "\t西城区, 100032\n",
      "\t崇文区, 100061\n",
      "\t宣武区, 100054\n",
      "\t朝阳区, 100020\n",
      "\t丰台区, 100071\n",
      "\t石景山区, 100043\n",
      "\t海淀区, 100080\n",
      "\t门头沟区, 102300\n",
      "\t房山区, 102400\n",
      "\t通州区, 101100\n",
      "\t顺义区, 101300\n",
      "\t昌平区, 102200\n",
      "\t大兴区, 102600\n",
      "\t怀柔区, 101400\n",
      "\t平谷区, 101200\n",
      "\t密云区, 101500\n",
      "\t延庆区, 102100\n",
      "\t北京市, 100000\n"
     ]
    }
   ],
   "source": [
    "# requests处理HTTP请求，bs4解析HTML页面。\n",
    "# 获取全国邮政编码\n",
    "import requests\n",
    "from bs4 import BeautifulSoup\n",
    "\n",
    "BASE_LIB = 'html5lib'\n",
    "BASE_URL = 'http://www.ip138.com'\n",
    "UA = 'Mozilla/5.0 (Macintosh; Intel Mac OS X 10_12_5) AppleWebKit/537.36 (KHTML, like Gecko) Chrome/59.0.3071.115 Safari/537.36'\n",
    "HEADERS = {'user-agent':UA}\n",
    "\n",
    "def handle_zip_code(province, url):\n",
    "    print(province)\n",
    "    resp = requests.get(url, headers=HEADERS)\n",
    "    text = resp.text.encode('iso-8859-1').decode('gbk')\n",
    "    bs = BeautifulSoup(text, BASE_LIB)\n",
    "    rows = bs.select('table.t12 > tbody > tr')\n",
    "    for i in range(1, len(rows)):\n",
    "        items = rows[i].select('td')\n",
    "        t_1 = items[0].text.strip()\n",
    "        if t_1:\n",
    "            print('\\t%s, %s' % (t_1, items[1].text.strip()))\n",
    "        if len(items) > 4:\n",
    "            t_2 = items[3].text.strip()\n",
    "            if t_2:\n",
    "                print('\\t%s, %s' % (t_2, items[4].text.strip()))\n",
    "    \n",
    "resp = requests.get(BASE_URL + '/post', headers=HEADERS)\n",
    "text = resp.text.encode('iso-8859-1').decode('gbk')\n",
    "bs = BeautifulSoup(text, BASE_LIB) # 默认使用lxml\n",
    "for item in bs.select('div#newAlexa > table.t4 > tbody > tr > td > a'):\n",
    "    handle_zip_code(item.text, BASE_URL + item.get('href'))\n",
    "    break # 不然显示内容太多"
   ]
  },
  {
   "cell_type": "code",
   "execution_count": 5,
   "metadata": {
    "collapsed": false
   },
   "outputs": [
    {
     "data": {
      "text/html": [
       "<div>\n",
       "<table border=\"1\" class=\"dataframe\">\n",
       "  <thead>\n",
       "    <tr style=\"text-align: right;\">\n",
       "      <th></th>\n",
       "      <th>open</th>\n",
       "      <th>high</th>\n",
       "      <th>close</th>\n",
       "      <th>low</th>\n",
       "      <th>volume</th>\n",
       "    </tr>\n",
       "    <tr>\n",
       "      <th>date</th>\n",
       "      <th></th>\n",
       "      <th></th>\n",
       "      <th></th>\n",
       "      <th></th>\n",
       "      <th></th>\n",
       "    </tr>\n",
       "  </thead>\n",
       "  <tbody>\n",
       "    <tr>\n",
       "      <th>2018-01-02</th>\n",
       "      <td>29.02</td>\n",
       "      <td>30.06</td>\n",
       "      <td>29.63</td>\n",
       "      <td>29.02</td>\n",
       "      <td>675913.06</td>\n",
       "    </tr>\n",
       "    <tr>\n",
       "      <th>2018-01-03</th>\n",
       "      <td>29.74</td>\n",
       "      <td>30.48</td>\n",
       "      <td>29.98</td>\n",
       "      <td>29.64</td>\n",
       "      <td>718503.38</td>\n",
       "    </tr>\n",
       "    <tr>\n",
       "      <th>2018-01-04</th>\n",
       "      <td>30.28</td>\n",
       "      <td>30.36</td>\n",
       "      <td>29.67</td>\n",
       "      <td>29.40</td>\n",
       "      <td>516865.94</td>\n",
       "    </tr>\n",
       "    <tr>\n",
       "      <th>2018-01-05</th>\n",
       "      <td>29.87</td>\n",
       "      <td>30.25</td>\n",
       "      <td>30.12</td>\n",
       "      <td>29.46</td>\n",
       "      <td>479908.19</td>\n",
       "    </tr>\n",
       "    <tr>\n",
       "      <th>2018-01-08</th>\n",
       "      <td>29.92</td>\n",
       "      <td>30.05</td>\n",
       "      <td>29.48</td>\n",
       "      <td>29.31</td>\n",
       "      <td>658578.88</td>\n",
       "    </tr>\n",
       "    <tr>\n",
       "      <th>2018-01-09</th>\n",
       "      <td>29.52</td>\n",
       "      <td>29.91</td>\n",
       "      <td>29.75</td>\n",
       "      <td>29.35</td>\n",
       "      <td>398677.97</td>\n",
       "    </tr>\n",
       "    <tr>\n",
       "      <th>2018-01-10</th>\n",
       "      <td>29.66</td>\n",
       "      <td>30.77</td>\n",
       "      <td>30.54</td>\n",
       "      <td>29.58</td>\n",
       "      <td>799282.88</td>\n",
       "    </tr>\n",
       "    <tr>\n",
       "      <th>2018-01-11</th>\n",
       "      <td>30.52</td>\n",
       "      <td>31.15</td>\n",
       "      <td>30.92</td>\n",
       "      <td>30.40</td>\n",
       "      <td>540744.88</td>\n",
       "    </tr>\n",
       "    <tr>\n",
       "      <th>2018-01-12</th>\n",
       "      <td>31.12</td>\n",
       "      <td>31.58</td>\n",
       "      <td>31.50</td>\n",
       "      <td>31.02</td>\n",
       "      <td>487343.16</td>\n",
       "    </tr>\n",
       "    <tr>\n",
       "      <th>2018-01-15</th>\n",
       "      <td>31.48</td>\n",
       "      <td>32.40</td>\n",
       "      <td>31.92</td>\n",
       "      <td>31.30</td>\n",
       "      <td>673146.00</td>\n",
       "    </tr>\n",
       "    <tr>\n",
       "      <th>2018-01-16</th>\n",
       "      <td>31.80</td>\n",
       "      <td>32.28</td>\n",
       "      <td>31.90</td>\n",
       "      <td>31.54</td>\n",
       "      <td>652819.00</td>\n",
       "    </tr>\n",
       "    <tr>\n",
       "      <th>2018-01-17</th>\n",
       "      <td>32.10</td>\n",
       "      <td>33.11</td>\n",
       "      <td>31.68</td>\n",
       "      <td>31.50</td>\n",
       "      <td>1026546.38</td>\n",
       "    </tr>\n",
       "    <tr>\n",
       "      <th>2018-01-18</th>\n",
       "      <td>32.10</td>\n",
       "      <td>32.75</td>\n",
       "      <td>32.30</td>\n",
       "      <td>32.10</td>\n",
       "      <td>811039.69</td>\n",
       "    </tr>\n",
       "    <tr>\n",
       "      <th>2018-01-19</th>\n",
       "      <td>32.66</td>\n",
       "      <td>33.35</td>\n",
       "      <td>32.50</td>\n",
       "      <td>32.21</td>\n",
       "      <td>841328.88</td>\n",
       "    </tr>\n",
       "    <tr>\n",
       "      <th>2018-01-22</th>\n",
       "      <td>32.18</td>\n",
       "      <td>33.64</td>\n",
       "      <td>33.20</td>\n",
       "      <td>32.15</td>\n",
       "      <td>945729.56</td>\n",
       "    </tr>\n",
       "    <tr>\n",
       "      <th>2018-01-23</th>\n",
       "      <td>33.20</td>\n",
       "      <td>34.17</td>\n",
       "      <td>34.08</td>\n",
       "      <td>33.20</td>\n",
       "      <td>868994.81</td>\n",
       "    </tr>\n",
       "    <tr>\n",
       "      <th>2018-01-24</th>\n",
       "      <td>34.25</td>\n",
       "      <td>35.35</td>\n",
       "      <td>33.85</td>\n",
       "      <td>33.45</td>\n",
       "      <td>1176483.62</td>\n",
       "    </tr>\n",
       "    <tr>\n",
       "      <th>2018-01-25</th>\n",
       "      <td>34.01</td>\n",
       "      <td>34.02</td>\n",
       "      <td>33.40</td>\n",
       "      <td>32.90</td>\n",
       "      <td>789040.31</td>\n",
       "    </tr>\n",
       "    <tr>\n",
       "      <th>2018-01-26</th>\n",
       "      <td>33.19</td>\n",
       "      <td>34.30</td>\n",
       "      <td>33.48</td>\n",
       "      <td>33.19</td>\n",
       "      <td>706673.94</td>\n",
       "    </tr>\n",
       "  </tbody>\n",
       "</table>\n",
       "</div>"
      ],
      "text/plain": [
       "             open   high  close    low      volume\n",
       "date                                              \n",
       "2018-01-02  29.02  30.06  29.63  29.02   675913.06\n",
       "2018-01-03  29.74  30.48  29.98  29.64   718503.38\n",
       "2018-01-04  30.28  30.36  29.67  29.40   516865.94\n",
       "2018-01-05  29.87  30.25  30.12  29.46   479908.19\n",
       "2018-01-08  29.92  30.05  29.48  29.31   658578.88\n",
       "2018-01-09  29.52  29.91  29.75  29.35   398677.97\n",
       "2018-01-10  29.66  30.77  30.54  29.58   799282.88\n",
       "2018-01-11  30.52  31.15  30.92  30.40   540744.88\n",
       "2018-01-12  31.12  31.58  31.50  31.02   487343.16\n",
       "2018-01-15  31.48  32.40  31.92  31.30   673146.00\n",
       "2018-01-16  31.80  32.28  31.90  31.54   652819.00\n",
       "2018-01-17  32.10  33.11  31.68  31.50  1026546.38\n",
       "2018-01-18  32.10  32.75  32.30  32.10   811039.69\n",
       "2018-01-19  32.66  33.35  32.50  32.21   841328.88\n",
       "2018-01-22  32.18  33.64  33.20  32.15   945729.56\n",
       "2018-01-23  33.20  34.17  34.08  33.20   868994.81\n",
       "2018-01-24  34.25  35.35  33.85  33.45  1176483.62\n",
       "2018-01-25  34.01  34.02  33.40  32.90   789040.31\n",
       "2018-01-26  33.19  34.30  33.48  33.19   706673.94"
      ]
     },
     "execution_count": 5,
     "metadata": {},
     "output_type": "execute_result"
    }
   ],
   "source": [
    "# pandas数据分析\n",
    "# 使用tushare（http://tushare.org/）获取财经数据\n",
    "import pandas as pd\n",
    "import tushare as ts\n",
    "\n",
    "data = ts.get_hist_data('600036',start='2018-01-01',end='2018-1-10')\n",
    "data.index = pd.to_datetime(data.index) # 索引转换成时间序列\n",
    "data = data[::-1] # 反转\n",
    "data.loc[:, ['open', 'high', 'close', 'low', 'volume']]"
   ]
  },
  {
   "cell_type": "code",
   "execution_count": 4,
   "metadata": {
    "collapsed": true
   },
   "outputs": [],
   "source": [
    "# Matplotlib绘图"
   ]
  },
  {
   "cell_type": "code",
   "execution_count": 6,
   "metadata": {
    "collapsed": false
   },
   "outputs": [
    {
     "data": {
      "image/png": "[encoded data removed]",
      "text/plain": [
       "<matplotlib.figure.Figure at 0x1b03c4f0630>"
      ]
     },
     "metadata": {},
     "output_type": "display_data"
    }
   ],
   "source": [
    "# 绘制股市K线\n",
    "import matplotlib.finance as mpf\n",
    "import matplotlib.pyplot as plt\n",
    "%matplotlib inline\n",
    "\n",
    "data = ts.get_hist_data('600036',start='2018-01-01',end='2018-1-10')\n",
    "fig,ax = plt.subplots(figsize=(45, 15))\n",
    "fig.subplots_adjust(bottom=0.2)\n",
    "mpf.candlestick2_ochl(ax=ax, \n",
    "                      opens=data['open'].values,\n",
    "                      closes=data['close'].values,\n",
    "                      highs=data['high'].values,\n",
    "                      lows=data['low'].values, \n",
    "                      width=0.75,\n",
    "                      colorup='r',\n",
    "                      colordown='g',\n",
    "                      alpha=0.75)"
   ]
  },
  {
   "cell_type": "code",
   "execution_count": 10,
   "metadata": {
    "collapsed": false
   },
   "outputs": [
    {
     "data": {
      "image/png": "[encoded data removed]",
      "text/plain": [
       "<matplotlib.figure.Figure at 0x2403897f7f0>"
      ]
     },
     "metadata": {},
     "output_type": "display_data"
    }
   ],
   "source": [
    "# 美国大选按州得票统计（同时展现各州人口与平均收入）\n",
    "from pandas import Series, DataFrame\n",
    "\n",
    "result_df = pd.read_csv('2016-us-ge-by-county.csv')\n",
    "result_df.drop('StateCode', axis=1, inplace=True)\n",
    "result_df.drop('CountyFips', axis=1, inplace=True)\n",
    "# 分别提取Trump和Clinton的数据\n",
    "trump_df = result_df[result_df['Candidate'] == 'Trump']\n",
    "clinton_df = result_df[result_df['Candidate'] == 'Clinton']\n",
    "# 合并成一张表并且按州分组\n",
    "result_df = pd.merge(trump_df,\n",
    "                     clinton_df,\n",
    "                     on=['StateName', 'CountyName', 'CountyTotalVote'],\n",
    "                     suffixes=['_t', '_c'])\n",
    "result_df.drop('Party_t', axis=1, inplace=True)\n",
    "result_df.drop('Party_c', axis=1, inplace=True)\n",
    "result_df.drop('Candidate_t', axis=1, inplace=True)\n",
    "result_df.drop('Candidate_c', axis=1, inplace=True)\n",
    "result_df.columns = ['StateName', 'CountyName', 'TotalVote', 'VoteTrump', 'VoteClinton']\n",
    "result_df = result_df.groupby(by=result_df['StateName'], as_index=False).sum() # 试下as_index不同值的区别\n",
    "result_df.drop([8], inplace=True) # 删除district-of-columbia\n",
    "result_df['T-Ratio'] = result_df['VoteTrump'] / result_df['TotalVote']\n",
    "result_df['C-Ratio'] = result_df['VoteClinton'] / result_df['TotalVote']\n",
    "result_df['Winner'] = list(map(lambda x, y: 'Trump' if x > y else 'Clinton', result_df['T-Ratio'], result_df['C-Ratio']))\n",
    "# 读取收入数据\n",
    "income_df = pd.read_csv('2015-us-income-by-county.csv')\n",
    "# 合并收入数据\n",
    "result_df = pd.merge(result_df, income_df, on=['StateName'])\n",
    "# 画图\n",
    "colors = result_df.Winner.map({'Trump':'Red', 'Clinton':'Blue'}) # 根据赢家设置颜色\n",
    "spot_size = result_df.TotalVote / 2000.0 # 设置点大小\n",
    "plt.rcParams['font.sans-serif']=['SimHei'] # 用来正常显示中文标签\n",
    "plt.figure(figsize=(17, 12)) \n",
    "plt.scatter(x = result_df['Income'], y = result_df['T-Ratio'], s=spot_size, c=colors, alpha=0.25)\n",
    "# plt.scatter( x = result_df['Income'], y = result_df['T-Ratio'], s=spot_size, alpha=0.25)\n",
    "plt.xlabel('人均收入（美元）',fontsize=20)\n",
    "plt.ylabel('各州Trump得票比率',fontsize=20)\n",
    "plt.grid(True) # 添加网格"
   ]
  },
  {
   "cell_type": "code",
   "execution_count": 13,
   "metadata": {
    "collapsed": false
   },
   "outputs": [
    {
     "name": "stderr",
     "output_type": "stream",
     "text": [
      "C:\\ProgramData\\Anaconda3\\lib\\site-packages\\sklearn\\utils\\validation.py:395: DeprecationWarning: Passing 1d arrays as data is deprecated in 0.17 and will raise ValueError in 0.19. Reshape your data either using X.reshape(-1, 1) if your data has a single feature or X.reshape(1, -1) if it contains a single sample.\n",
      "  DeprecationWarning)\n"
     ]
    },
    {
     "name": "stdout",
     "output_type": "stream",
     "text": [
      "预测一张12英寸披萨价格：$13.68\n"
     ]
    },
    {
     "data": {
      "image/png": "[encoded data removed]",
      "text/plain": [
       "<matplotlib.figure.Figure at 0x24039b58978>"
      ]
     },
     "metadata": {},
     "output_type": "display_data"
    }
   ],
   "source": [
    "# SKlearn机器学习\n",
    "# 简单的回归预测\n",
    "#定义画图函数  \n",
    "def runplt():  \n",
    "    plt.figure()  \n",
    "    plt.title('披萨价格与直径数据')  \n",
    "    plt.xlabel('直径(英寸)')  \n",
    "    plt.ylabel('价格(美元)')  \n",
    "    plt.axis([0,25, 0,25])  \n",
    "    plt.grid(True)  \n",
    "    return plt  \n",
    "  \n",
    "#训练集数据  \n",
    "X = [[6], [8], [10], [14], [18]]  \n",
    "y = [[7], [9], [13], [17.5], [18]]  \n",
    "  \n",
    "#导入一元线性回归函数:y = α + βx  \n",
    "from sklearn.linear_model import  LinearRegression  \n",
    "model = LinearRegression()  \n",
    "model.fit(X,y)  #训练集数据放入模型中  \n",
    "print ('预测一张12英寸披萨价格：$%.2f' % model.predict([12]))   \n",
    "  \n",
    "  \n",
    "plt = runplt()  \n",
    "X2 = [[0],[10],[14],[25]]  \n",
    "y2 = model.predict(X2)  #预测数据  \n",
    "plt.plot(X,y,'k.')  \n",
    "plt.plot(X2,y2,'g-')  \n",
    "  \n",
    "#残差预测值  \n",
    "yr = model.predict(X)  \n",
    "for idx,x in enumerate(X):  \n",
    "    plt.plot([x,x], [y[idx], yr[idx]],'r-')  "
   ]
  },
  {
   "cell_type": "code",
   "execution_count": null,
   "metadata": {
    "collapsed": true
   },
   "outputs": [],
   "source": [
    "# 量化交易 - 使用聚宽平台（https://www.joinquant.com）\n",
    "# 克隆自聚宽文章：https://www.joinquant.com/post/3423\n",
    "# 标题：【量化课堂】羊驼交易系统\n",
    "# 作者：JoinQuant量化课堂\n",
    "\n",
    "# 羊驼交易系统 (基于动量策略)\n",
    "# 日期2008年10月1日到2016年10月26日\n",
    "\n",
    "from jqdata import *\n",
    "\n",
    "'''\n",
    "================================================================================\n",
    "总体回测前\n",
    "================================================================================\n",
    "'''\n",
    "\n",
    "#总体回测前要做的事情\n",
    "def initialize(context):\n",
    "    set_params()      #1 设置策参数\n",
    "    set_variables()   #2 设置中间变量\n",
    "    set_backtest()    #3 设置回测条件\n",
    "\n",
    "#1 设置策略参数\n",
    "def set_params():\n",
    "    # 每次剔除手中收益率最低的change_No支股票\n",
    "    g.change_No = 2\n",
    "    g.N = 60             # 设置收益率回测区间（天数）\n",
    "    g.tc = 60            # 设置调仓天数\n",
    "    g.num_stocks = 20    # 设置持仓股票数目\n",
    "    # 定义股票池，创业板指数成分股\n",
    "    g.index='000300.XSHG'\n",
    "    \n",
    "#2 设置中间变量\n",
    "def set_variables():\n",
    "    g.t = 0                    # 记录回测运行的天数\n",
    "    g.if_trade = False         # 当天是否交易\n",
    "    g.feasible_stocks = []     # 当前可交易股票池\n",
    "\n",
    "#3 设置回测条件\n",
    "def set_backtest():\n",
    "    set_benchmark('000300.XSHG')              # 设置为基准\n",
    "    set_option('use_real_price', True)        # 用真实价格交易\n",
    "    log.set_level('order', 'error')           # 设置报错等级\n",
    "\n",
    "'''\n",
    "================================================================================\n",
    "每天开盘前\n",
    "================================================================================\n",
    "'''\n",
    "#每天开盘前要做的事情\n",
    "def before_trading_start(context):\n",
    "    if g.t%g.tc==0:\n",
    "        #每g.tc天，交易一次行\n",
    "        g.if_trade=True \n",
    "        #4 设置可行股票池：获得当前开盘的股票池并剔除当前或者计算样本期间停牌的股票\n",
    "        g.feasible_stocks = set_feasible_stocks(get_index_stocks(g.index),g.N,context)\n",
    "\t\t#5 设置手续费与手续费\n",
    "        set_slip_fee(context) \n",
    "    g.t+=1\n",
    "\n",
    "\n",
    "#4    \n",
    "# 设置可行股票池\n",
    "# 过滤掉当日停牌的股票,且筛选出前days天未停牌股票\n",
    "# 输入：stock_list为list类型,样本天数days为int类型，context（见API）\n",
    "# 输出：list=g.feasible_stocks\n",
    "def set_feasible_stocks(stock_list,days,context):\n",
    "    # 得到是否停牌信息的dataframe，停牌的1，未停牌得0\n",
    "    suspened_info_df = get_price(list(stock_list), \n",
    "                       start_date=context.current_dt, \n",
    "                       end_date=context.current_dt, \n",
    "                       frequency='daily', \n",
    "                       fields='paused'\n",
    "    )['paused'].T\n",
    "    # 过滤停牌股票 返回dataframe\n",
    "    unsuspened_index = suspened_info_df.iloc[:,0]<1\n",
    "    # 得到当日未停牌股票的代码list:\n",
    "    unsuspened_stocks = suspened_info_df[unsuspened_index].index\n",
    "    # 进一步，筛选出前days天未曾停牌的股票list:\n",
    "    feasible_stocks = []\n",
    "    current_data = get_current_data()\n",
    "    for stock in unsuspened_stocks:\n",
    "        if sum(attribute_history(stock, days, unit = '1d',fields = ('paused'), skip_paused = False))[0] == 0:\n",
    "            feasible_stocks.append(stock)\n",
    "    return feasible_stocks\n",
    "    \n",
    "#5 根据不同的时间段设置滑点与手续费\n",
    "def set_slip_fee(context):\n",
    "    # 将滑点设置为0\n",
    "    set_slippage(FixedSlippage(0)) \n",
    "    # 根据不同的时间段设置手续费\n",
    "    dt=context.current_dt\n",
    "    \n",
    "    if dt>datetime.datetime(2013,1, 1):\n",
    "        set_commission(PerTrade(buy_cost=0.0003, sell_cost=0.0013, min_cost=5)) \n",
    "        \n",
    "    elif dt>datetime.datetime(2011,1, 1):\n",
    "        set_commission(PerTrade(buy_cost=0.001, sell_cost=0.002, min_cost=5))\n",
    "            \n",
    "    elif dt>datetime.datetime(2009,1, 1):\n",
    "        set_commission(PerTrade(buy_cost=0.002, sell_cost=0.003, min_cost=5))\n",
    "                \n",
    "    else:\n",
    "        set_commission(PerTrade(buy_cost=0.003, sell_cost=0.004, min_cost=5))\n",
    "\n",
    "'''\n",
    "================================================================================\n",
    "每天交易时\n",
    "================================================================================\n",
    "'''\n",
    "def handle_data(context,data):\n",
    "\t# 如果为交易日\n",
    "    if g.if_trade == True: \n",
    "\t    #6 获得买入卖出信号，输入context，输出股票列表list\n",
    "        (sell,buy)=get_signals(context) \n",
    "        #7 重新调整仓位，输入context,使用信号结果sell和buy\n",
    "        rebalance(context, buy, sell)\n",
    "\tg.if_trade = False\n",
    "\n",
    "#6\n",
    "# 依本策略的卖出信号，得到应该卖出的股票列表\n",
    "# 输入：context（见API）\n",
    "# 输出：应该卖的股票列表，list类型\n",
    "def get_signals(context):\n",
    "    # 将昨天设置为收益率计算最后一天 返回datetime.date对象\n",
    "    enddate = context.previous_date\n",
    "    # 将昨日日期向前推g.N(这是个整数）得到收益率计算周期第一天 返回datetime.date对象\n",
    "    startdate = shift_trading_day(enddate,-g.N)\n",
    "    # 得到回测收益率的股票列表（由于上市、退市等因素，此列表与我们实际可交易股票有一定差异）返回list\n",
    "    stocks = g.feasible_stocks\n",
    "    # 按收益率降序排列 返回list\n",
    "    sorted_list = stock_ret(stocks,startdate,enddate,asc = True)\n",
    "    # 截取最高的g.num_stocks个可能进行购买的股票\n",
    "    should_buy = sorted_list[0:g.change_No]\n",
    "    # 当前持仓股票\n",
    "    holding = list(context.portfolio.positions.keys())  \n",
    "    # 如果当前空仓\n",
    "    if len(list(context.portfolio.positions.keys()))==0:\n",
    "        # 按照排名最差的g.num_stocks支股票建仓\n",
    "        should_buy = sorted_list[0:g.num_stocks]\n",
    "        # 卖出为空\n",
    "        should_sell = []\n",
    "    else:\n",
    "        # 生成卖出股票list，当前为空\n",
    "        should_sell = stock_ret(holding, startdate, enddate, asc = True)[0:g.change_No]\n",
    "    # 如果一支持仓股票收益不好该卖\n",
    "    for both in should_sell[:]:\n",
    "        # 同时在所有可行股票里收益排名低该买\n",
    "        if both in should_buy[:]:\n",
    "            # 既不买入\n",
    "            list(should_buy).remove(both)\n",
    "            # 也不卖出\n",
    "            list(should_sell).remove(both)\n",
    "    # 返回两个list的元组\n",
    "    return should_sell,should_buy\n",
    "\n",
    "#7\n",
    "# 依本策略的买入信号，得到应该买的股票列表\n",
    "# 借用买入信号结果，不需额外输入\n",
    "# 输入：context（见API）\n",
    "def rebalance(context, buy, sell):\n",
    "    # 卖出在卖出list中的股票\n",
    "    for stock_to_sell in list(sell)[:]: \n",
    "        order_target_value(stock_to_sell, 0)\n",
    "    # 把当前持仓股票和需要买入股票生成新的buy的列表，包括调仓头所有需要持有股票\n",
    "    for stock in buy[:]:\n",
    "        if stock in list(context.portfolio.positions.keys()):\n",
    "            buy.append(stock)\n",
    "    # 定义买入每日股票的金额\n",
    "    every_stock = context.portfolio.portfolio_value/g.num_stocks\n",
    "    # 调整每个股票到当前总市值/g.num_stocks金额\n",
    "    for stock_to_buy in buy[:]:\n",
    "        order_target_value(stock_to_buy, every_stock)\n",
    "    for stock_to_buy in buy[:]:\n",
    "        # 因order函数调整为顺序调整，为防止先行调仓股票由于后行调仓股票占金额过大不能一次调整到位，这里运行两次以解决这个问题\n",
    "        order_target_value(stock_to_buy, every_stock)\n",
    "        \t\n",
    "#8\n",
    "# 某一日的前shift个交易日日期 \n",
    "# 输入：date为datetime.date对象(是一个date，而不是datetime)；shift为int类型\n",
    "# 输出：datetime.date对象(是一个date，而不是datetime)\n",
    "def shift_trading_day(date,shift):\n",
    "    # 获取所有的交易日，返回一个包含所有交易日的 list,元素值为 datetime.date 类型.\n",
    "    tradingday = get_all_trade_days()\n",
    "    # 得到date之后shift天那一天在列表中的行标号 返回一个数\n",
    "    shiftday_index = list(tradingday).index(date)+shift\n",
    "    # 根据行号返回该日日期 为datetime.date类型\n",
    "    return tradingday[shiftday_index]\n",
    "\n",
    "#9  \n",
    "# 根据期间收益率（用前复权收盘价计算）给股票排名\n",
    "# 输入：stock_list为list类型；startdate enddate为datetime.date对象；asc为布尔类型\n",
    "# 输出：list类型\n",
    "def stock_ret(stock_list,startdate,enddate,asc = False):\n",
    "    # 得到回测区间内股票收盘价 返回dataframe\n",
    "    log.info(startdate)\n",
    "    df_close = get_price(list(stock_list),start_date = startdate, end_date = enddate, fields = 'close')['close'].T\n",
    "    # 删去空值 返回dataframe\n",
    "    df_close = df_close.dropna(axis = 0)\n",
    "    # 计算回测区间收益率 返回dataframe\n",
    "    df_close['ret']=(df_close[enddate]-df_close[startdate])/df_close[startdate]\n",
    "    #按收益率降序排列，获取股票代码，返回list\n",
    "    stocks = list(df_close.sort('ret', ascending = asc).index)\n",
    "    # 返回股票代码list\n",
    "    return stocks\n",
    "\n",
    "'''\n",
    "================================================================================\n",
    "每天收盘后\n",
    "================================================================================\n",
    "'''\n",
    "# 每日收盘后要做的事情（本策略中不需要）\n",
    "def after_trading_end(context):\n",
    "    return"
   ]
  }
 ],
 "metadata": {
  "kernelspec": {
   "display_name": "Python 3",
   "language": "python",
   "name": "python3"
  },
  "language_info": {
   "codemirror_mode": {
    "name": "ipython",
    "version": 3
   },
   "file_extension": ".py",
   "mimetype": "text/x-python",
   "name": "python",
   "nbconvert_exporter": "python",
   "pygments_lexer": "ipython3",
   "version": "3.6.0"
  }
 },
 "nbformat": 4,
 "nbformat_minor": 2
}
