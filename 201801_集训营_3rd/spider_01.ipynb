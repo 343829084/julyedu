{
 "cells": [
  {
   "cell_type": "code",
   "execution_count": 1,
   "metadata": {
    "collapsed": true
   },
   "outputs": [],
   "source": [
    "# 爬虫简介\n",
    "# 数据是机器学习的燃料，爬虫就是获取数据的挖掘机。"
   ]
  },
  {
   "cell_type": "code",
   "execution_count": 2,
   "metadata": {
    "collapsed": true
   },
   "outputs": [],
   "source": [
    "# 第一节 直接使用封装好的接口获取数据"
   ]
  },
  {
   "cell_type": "code",
   "execution_count": 3,
   "metadata": {
    "collapsed": false
   },
   "outputs": [
    {
     "data": {
      "text/html": [
       "<div>\n",
       "<table border=\"1\" class=\"dataframe\">\n",
       "  <thead>\n",
       "    <tr style=\"text-align: right;\">\n",
       "      <th></th>\n",
       "      <th>open</th>\n",
       "      <th>high</th>\n",
       "      <th>close</th>\n",
       "      <th>low</th>\n",
       "      <th>volume</th>\n",
       "      <th>price_change</th>\n",
       "      <th>p_change</th>\n",
       "      <th>ma5</th>\n",
       "      <th>ma10</th>\n",
       "      <th>ma20</th>\n",
       "      <th>v_ma5</th>\n",
       "      <th>v_ma10</th>\n",
       "      <th>v_ma20</th>\n",
       "    </tr>\n",
       "    <tr>\n",
       "      <th>date</th>\n",
       "      <th></th>\n",
       "      <th></th>\n",
       "      <th></th>\n",
       "      <th></th>\n",
       "      <th></th>\n",
       "      <th></th>\n",
       "      <th></th>\n",
       "      <th></th>\n",
       "      <th></th>\n",
       "      <th></th>\n",
       "      <th></th>\n",
       "      <th></th>\n",
       "      <th></th>\n",
       "    </tr>\n",
       "  </thead>\n",
       "  <tbody>\n",
       "    <tr>\n",
       "      <th>2018-01-02</th>\n",
       "      <td>2.86</td>\n",
       "      <td>2.91</td>\n",
       "      <td>2.91</td>\n",
       "      <td>2.86</td>\n",
       "      <td>4776970.00</td>\n",
       "      <td>0.05</td>\n",
       "      <td>1.75</td>\n",
       "      <td>2.870</td>\n",
       "      <td>2.875</td>\n",
       "      <td>2.868</td>\n",
       "      <td>5108968.20</td>\n",
       "      <td>4969266.33</td>\n",
       "      <td>5051746.58</td>\n",
       "    </tr>\n",
       "    <tr>\n",
       "      <th>2018-01-03</th>\n",
       "      <td>2.91</td>\n",
       "      <td>2.95</td>\n",
       "      <td>2.91</td>\n",
       "      <td>2.91</td>\n",
       "      <td>5708743.00</td>\n",
       "      <td>0.00</td>\n",
       "      <td>0.00</td>\n",
       "      <td>2.874</td>\n",
       "      <td>2.879</td>\n",
       "      <td>2.868</td>\n",
       "      <td>5265180.70</td>\n",
       "      <td>5021250.08</td>\n",
       "      <td>4890998.78</td>\n",
       "    </tr>\n",
       "    <tr>\n",
       "      <th>2018-01-04</th>\n",
       "      <td>2.91</td>\n",
       "      <td>2.93</td>\n",
       "      <td>2.92</td>\n",
       "      <td>2.91</td>\n",
       "      <td>3084130.75</td>\n",
       "      <td>0.01</td>\n",
       "      <td>0.34</td>\n",
       "      <td>2.892</td>\n",
       "      <td>2.883</td>\n",
       "      <td>2.871</td>\n",
       "      <td>4165531.45</td>\n",
       "      <td>4922446.00</td>\n",
       "      <td>4812177.54</td>\n",
       "    </tr>\n",
       "    <tr>\n",
       "      <th>2018-01-05</th>\n",
       "      <td>2.92</td>\n",
       "      <td>2.94</td>\n",
       "      <td>2.93</td>\n",
       "      <td>2.92</td>\n",
       "      <td>3220088.25</td>\n",
       "      <td>0.01</td>\n",
       "      <td>0.34</td>\n",
       "      <td>2.906</td>\n",
       "      <td>2.887</td>\n",
       "      <td>2.875</td>\n",
       "      <td>3906197.70</td>\n",
       "      <td>4670167.18</td>\n",
       "      <td>4674675.88</td>\n",
       "    </tr>\n",
       "  </tbody>\n",
       "</table>\n",
       "</div>"
      ],
      "text/plain": [
       "            open  high  close   low      volume  price_change  p_change  \\\n",
       "date                                                                      \n",
       "2018-01-02  2.86  2.91   2.91  2.86  4776970.00          0.05      1.75   \n",
       "2018-01-03  2.91  2.95   2.91  2.91  5708743.00          0.00      0.00   \n",
       "2018-01-04  2.91  2.93   2.92  2.91  3084130.75          0.01      0.34   \n",
       "2018-01-05  2.92  2.94   2.93  2.92  3220088.25          0.01      0.34   \n",
       "\n",
       "              ma5   ma10   ma20       v_ma5      v_ma10      v_ma20  \n",
       "date                                                                 \n",
       "2018-01-02  2.870  2.875  2.868  5108968.20  4969266.33  5051746.58  \n",
       "2018-01-03  2.874  2.879  2.868  5265180.70  5021250.08  4890998.78  \n",
       "2018-01-04  2.892  2.883  2.871  4165531.45  4922446.00  4812177.54  \n",
       "2018-01-05  2.906  2.887  2.875  3906197.70  4670167.18  4674675.88  "
      ]
     },
     "execution_count": 3,
     "metadata": {},
     "output_type": "execute_result"
    }
   ],
   "source": [
    "# tushare获取股票数据\n",
    "import pandas as pd\n",
    "import tushare as ts\n",
    "\n",
    "data = ts.get_hist_data('510050',start='2018-01-01',end='2018-01-05')\n",
    "data.index = pd.to_datetime(data.index)\n",
    "data = data[::-1]\n",
    "data.head()"
   ]
  },
  {
   "cell_type": "code",
   "execution_count": 4,
   "metadata": {
    "collapsed": true
   },
   "outputs": [],
   "source": [
    "# 第二节 requests库"
   ]
  },
  {
   "cell_type": "code",
   "execution_count": 5,
   "metadata": {
    "collapsed": true
   },
   "outputs": [],
   "source": [
    "# 官网：http://cn.python-requests.org/zh_CN/latest/\n",
    "# 一句话简介：Requests 唯一的一个非转基因的 Python HTTP 库，人类可以安全享用。\n",
    "# 不服的话请自行挑战urllib库。\n",
    "# 安装：pip install requests"
   ]
  },
  {
   "cell_type": "code",
   "execution_count": 6,
   "metadata": {
    "collapsed": true
   },
   "outputs": [],
   "source": [
    "# 常用HTTP请求的功能\n",
    "# Get: 请求指定的资源\n",
    "# Head: 检查资源是否存在\n",
    "# Put: 更新资源 \n",
    "# Delete: 删除资源\n",
    "# Post: 上传资源和表单"
   ]
  },
  {
   "cell_type": "code",
   "execution_count": 7,
   "metadata": {
    "collapsed": true
   },
   "outputs": [],
   "source": [
    "# HTTP请求结构：\n",
    "# https://www.xxx.com/yyy?v1=a&v2=b\n",
    "# 协议名称是https\n",
    "# url是www.xxx.com/yyy\n",
    "# 有2个参数v1和v2，对应值是a和b。"
   ]
  },
  {
   "cell_type": "code",
   "execution_count": 8,
   "metadata": {
    "collapsed": true
   },
   "outputs": [],
   "source": [
    "# http://httpbin.org/是个很好的测试和学习对象"
   ]
  },
  {
   "cell_type": "code",
   "execution_count": 9,
   "metadata": {
    "collapsed": false
   },
   "outputs": [
    {
     "name": "stdout",
     "output_type": "stream",
     "text": [
      "200\n",
      "None\n",
      "{'Connection': 'keep-alive', 'Server': 'meinheld/0.6.1', 'Date': 'Sun, 28 Jan 2018 07:47:46 GMT', 'Content-Type': 'application/json', 'Access-Control-Allow-Origin': '*', 'Access-Control-Allow-Credentials': 'true', 'X-Powered-By': 'Flask', 'X-Processed-Time': '0.00121903419495', 'Content-Length': '268', 'Via': '1.1 vegur'}\n",
      "{\n",
      "  \"args\": {}, \n",
      "  \"headers\": {\n",
      "    \"Accept\": \"*/*\", \n",
      "    \"Accept-Encoding\": \"gzip, deflate\", \n",
      "    \"Connection\": \"close\", \n",
      "    \"Host\": \"httpbin.org\", \n",
      "    \"User-Agent\": \"python-requests/2.12.4\"\n",
      "  }, \n",
      "  \"origin\": \"183.193.155.125\", \n",
      "  \"url\": \"http://httpbin.org/get\"\n",
      "}\n",
      "\n",
      "<class 'dict'>\n",
      "{'args': {}, 'headers': {'Accept': '*/*', 'Accept-Encoding': 'gzip, deflate', 'Connection': 'close', 'Host': 'httpbin.org', 'User-Agent': 'python-requests/2.12.4'}, 'origin': '183.193.155.125', 'url': 'http://httpbin.org/get'}\n"
     ]
    }
   ],
   "source": [
    "# Get请求\n",
    "import requests\n",
    "r = requests.get(\"http://httpbin.org/get\")\n",
    "print(r.status_code) # 返回HTTP状态码\n",
    "print(r.encoding) # 响应内容的编码\n",
    "print(r.headers) # 响应的头部信息\n",
    "print(r.text)\n",
    "jdata = r.json()\n",
    "print(type(jdata))\n",
    "print(jdata)"
   ]
  },
  {
   "cell_type": "code",
   "execution_count": 10,
   "metadata": {
    "collapsed": false
   },
   "outputs": [
    {
     "name": "stdout",
     "output_type": "stream",
     "text": [
      "{'key1': 'value1', 'key2': 'value2'}\n"
     ]
    }
   ],
   "source": [
    "# 带参数的get请求\n",
    "payload = {'key1': 'value1', 'key2': 'value2'}\n",
    "r = requests.get(\"http://httpbin.org/get\", params=payload)\n",
    "print(r.json()['args'])"
   ]
  },
  {
   "cell_type": "code",
   "execution_count": 11,
   "metadata": {
    "collapsed": false
   },
   "outputs": [
    {
     "name": "stdout",
     "output_type": "stream",
     "text": [
      "{'key1': 'value1', 'key2': 'value2'}\n"
     ]
    }
   ],
   "source": [
    "# Post请求\n",
    "payload = {'key1': 'value1', 'key2': 'value2'}\n",
    "r = requests.post(\"http://httpbin.org/post\", data=payload)\n",
    "print(r.json()['form'])"
   ]
  },
  {
   "cell_type": "code",
   "execution_count": 12,
   "metadata": {
    "collapsed": false
   },
   "outputs": [
    {
     "name": "stdout",
     "output_type": "stream",
     "text": [
      "{'Date': 'Sun, 28 Jan 2018 07:48:06 GMT', 'Content-Type': 'text/html; charset=utf-8', 'Transfer-Encoding': 'chunked', 'Connection': 'keep-alive', 'Keep-Alive': 'timeout=30', 'Vary': 'Accept-Encoding', 'X-Xss-Protection': '1; mode=block', 'X-Douban-Mobileapp': '0', 'Expires': 'Sun, 1 Jan 2006 01:00:00 GMT', 'Pragma': 'no-cache', 'Cache-Control': 'must-revalidate, no-cache, private', 'Set-Cookie': 'll=\"108296\"; path=/; domain=.douban.com; expires=Mon, 28-Jan-2019 07:48:06 GMT, bid=K9odnGsB_DE; Expires=Mon, 28-Jan-19 07:48:06 GMT; Domain=.douban.com; Path=/', 'X-DOUBAN-NEWBID': 'K9odnGsB_DE', 'X-DAE-Node': 'sindar13d', 'X-DAE-App': 'sns', 'Server': 'dae', 'Strict-Transport-Security': 'max-age=15552000;', 'Content-Encoding': 'gzip'}\n",
      "bid K9odnGsB_DE\n",
      "ll \"108296\"\n"
     ]
    }
   ],
   "source": [
    "# Cookie处理\n",
    "r = requests.get('http://www.douban.com')\n",
    "print(r.headers)\n",
    "for k in r.cookies.keys():\n",
    "    print(k, r.cookies[k])"
   ]
  },
  {
   "cell_type": "code",
   "execution_count": 13,
   "metadata": {
    "collapsed": true
   },
   "outputs": [],
   "source": [
    "# 二进制内容处理\n",
    "from PIL import Image\n",
    "from io import BytesIO\n",
    "\n",
    "r = requests.get('http://image1.ljcdn.com/shfdfs-image/m_fit,w_960,q_90/20180127/81244784-d394-47f4-8a2c-77826b8f9e0f.jpg')\n",
    "image = Image.open(BytesIO(r.content))\n",
    "image.save('lianjia.jpg')"
   ]
  },
  {
   "cell_type": "code",
   "execution_count": 14,
   "metadata": {
    "collapsed": false
   },
   "outputs": [
    {
     "name": "stdout",
     "output_type": "stream",
     "text": [
      "大秦铁路: 10.010, 10.220, 10.240, 9.970, \n"
     ]
    }
   ],
   "source": [
    "# 使用requests库从新浪获取股票数据\n",
    "def get_stock_info(code):\n",
    "    api = 'http://hq.sinajs.cn/list='\n",
    "    r = requests.get(api + code)\n",
    "    data_str = r.text.split('=')[1].replace('\"', '')[:-2]\n",
    "    infos = data_str.split(',')\n",
    "    s = infos[0] + ': '\n",
    "    s += infos[1] + ', ' # 开\n",
    "    s += infos[3] + ', ' # 收\n",
    "    s += infos[4] + ', ' # 高\n",
    "    s += infos[5] + ', ' # 低\n",
    "    print(s)\n",
    "    \n",
    "get_stock_info('sh601006')"
   ]
  },
  {
   "cell_type": "code",
   "execution_count": 15,
   "metadata": {
    "collapsed": true
   },
   "outputs": [],
   "source": [
    "# 第3节 css定位器与bs4网页解析"
   ]
  },
  {
   "cell_type": "code",
   "execution_count": 16,
   "metadata": {
    "collapsed": true
   },
   "outputs": [],
   "source": [
    "# HTML基础知识\n",
    "# <标签 属性_1=值_1 属性_2=值_2>内容...</标签>\n",
    "# id和class作为2个特殊标签被特别对待"
   ]
  },
  {
   "cell_type": "code",
   "execution_count": 17,
   "metadata": {
    "collapsed": true
   },
   "outputs": [],
   "source": [
    "# css选择器（可以使用浏览器的开发者工具检查或生成选择器）\n",
    "# 选择标签：直接输入标签名字，如head/ul，用 > 表示层级关系，比如ul > li（当中的空格必须保留）。\n",
    "# 选择id：#id，比如百度搜索的“百度一下”按钮可以用 #su 定位。\n",
    "# 选择class: .classname，比如百度搜索的搜索框可以用 .s_ipt 定位。\n",
    "# id和class的区别：理论上id是唯一的。而一个标签则可以同时属于多个class，可以用 .class_1.class_2 表示选择该标签的2个class进行匹配。\n",
    "# 元素属性选择：[属性=值]，多个属性的话直接连接即可，[属性_1=值_1][属性_1=值_2]\n",
    "# 例子，选择以下元素<div id=su class=names size=100 show=popup>Some Text</div>\n",
    "# - div#su.names[size=100][show=popup]\n",
    "# - 因为id一般唯一，所以 #su 也足够表达。"
   ]
  },
  {
   "cell_type": "code",
   "execution_count": 18,
   "metadata": {
    "collapsed": true
   },
   "outputs": [],
   "source": [
    "# bs4网页解析\n",
    "# 安装：pip install bs4"
   ]
  },
  {
   "cell_type": "code",
   "execution_count": 19,
   "metadata": {
    "collapsed": false
   },
   "outputs": [
    {
     "data": {
      "text/plain": [
       "'百度一下'"
      ]
     },
     "execution_count": 19,
     "metadata": {},
     "output_type": "execute_result"
    }
   ],
   "source": [
    "# 结合requests找到百度提交按钮\n",
    "import requests\n",
    "from bs4 import BeautifulSoup\n",
    "\n",
    "resp = requests.get('http://www.baidu.com')\n",
    "text = resp.text.encode('iso-8859-1').decode('utf-8') # 编码问题校正\n",
    "bs = BeautifulSoup(text, 'html5lib')\n",
    "su = bs.select('#su')[0]\n",
    "su.get('value')"
   ]
  },
  {
   "cell_type": "code",
   "execution_count": 20,
   "metadata": {
    "collapsed": false
   },
   "outputs": [
    {
     "name": "stdout",
     "output_type": "stream",
     "text": [
      "北京市\n",
      "\t通县, 101100\n",
      "\t东城区, 100010\n",
      "\t西城区, 100032\n",
      "\t崇文区, 100061\n",
      "\t宣武区, 100054\n",
      "\t朝阳区, 100020\n",
      "\t丰台区, 100071\n",
      "\t石景山区, 100043\n",
      "\t海淀区, 100080\n",
      "\t门头沟区, 102300\n",
      "\t房山区, 102400\n",
      "\t通州区, 101100\n",
      "\t顺义区, 101300\n",
      "\t昌平区, 102200\n",
      "\t大兴区, 102600\n",
      "\t怀柔区, 101400\n",
      "\t平谷区, 101200\n",
      "\t密云区, 101500\n",
      "\t延庆区, 102100\n",
      "\t北京市, 100000\n"
     ]
    }
   ],
   "source": [
    "# 抓取全国各地邮政编码与长途区号\n",
    "BASE_URL = 'http://www.ip138.com'\n",
    "UA = 'Mozilla/5.0 (Macintosh; Intel Mac OS X 10_12_5) AppleWebKit/537.36 (KHTML, like Gecko) Chrome/59.0.3071.115 Safari/537.36'\n",
    "HEADERS = {'user-agent':UA}\n",
    "\n",
    "def handle_zip_code(province, url):\n",
    "    print(province)\n",
    "    resp = requests.get(url, headers=HEADERS)\n",
    "    text = resp.text.encode('iso-8859-1').decode('gbk')\n",
    "    bs = BeautifulSoup(text, 'html5lib')\n",
    "    rows = bs.select('table.t12 > tbody > tr')\n",
    "    for i in range(1, len(rows)):\n",
    "        items = rows[i].select('td')\n",
    "        t_1 = items[0].text.strip()\n",
    "        if t_1:\n",
    "            print('\\t%s, %s' % (t_1, items[1].text.strip()))\n",
    "        if len(items) > 4:\n",
    "            t_2 = items[3].text.strip()\n",
    "            if t_2:\n",
    "                print('\\t%s, %s' % (t_2, items[4].text.strip()))\n",
    "    \n",
    "resp = requests.get(BASE_URL + '/post', headers=HEADERS)\n",
    "text = resp.text.encode('iso-8859-1').decode('gbk')\n",
    "bs = BeautifulSoup(text, 'html5lib')\n",
    "for item in bs.select('div#newAlexa > table.t4 > tbody > tr > td > a'):\n",
    "    handle_zip_code(item.text, BASE_URL + item.get('href'))\n",
    "    break # 不然显示内容太多"
   ]
  },
  {
   "cell_type": "code",
   "execution_count": 21,
   "metadata": {
    "collapsed": true
   },
   "outputs": [],
   "source": [
    "# Selenium安装配置\n",
    "# 1. 安装python的selenium包：pip install selenium\n",
    "# 2. Selenium驱动（Chrome）下载：https://sites.google.com/a/chromium.org/chromedriver/downloads\n",
    "# 3. 驱动下载后放在任意位置，但需要把路径添加到PATH环境变量。"
   ]
  },
  {
   "cell_type": "code",
   "execution_count": 22,
   "metadata": {
    "collapsed": false
   },
   "outputs": [
    {
     "name": "stdout",
     "output_type": "stream",
     "text": [
      "百度一下\n"
     ]
    }
   ],
   "source": [
    "# 使用示例\n",
    "from selenium import webdriver\n",
    "options = webdriver.ChromeOptions() # 创建driver的参数，可选。\n",
    "# options.add_argument('--headless')\n",
    "# options.add_argument('--disable-gpu')\n",
    "# options.add_argument('--ignore-certificate-errors')\n",
    "driver = webdriver.Chrome(chrome_options=options)\n",
    "driver.get('http://www.baidu.com')\n",
    "element = driver.find_element_by_css_selector('#su')\n",
    "print(element.get_attribute('value'))\n",
    "driver.quit()"
   ]
  },
  {
   "cell_type": "code",
   "execution_count": 23,
   "metadata": {
    "collapsed": false
   },
   "outputs": [
    {
     "name": "stdout",
     "output_type": "stream",
     "text": [
      "python首页--从入门到精通python http://www.baidu.com/baidu.php?url=Ks0000amqZra9B-65khmGxlB30cAvgOtNZfeGEg2xoXpsRyPpNb_Rv91ol4cRM-p1Qj049H7emSKPq5qkLj1Z90inQpEhdLcd_v7bIdctZsIRQGZ2jpZLmajvZE_yoXf6ZjcEz1p1k1SUtwkX9rQeuq9VMFiKUOBmshTlUyYHx9iGivx9f.7b_jxgC9xfwKfCsmqDZxxgMLvmtqI-hHIk133N2s1f_TXMGlXkf.U1Yk0ZDqTZ-YpAq80ZKGm1Yk0ZfqTZ-YpAq80A-V5HczPfKM5yF-TZns0ZNG5yF9pywd0ZKGujYz0APGujYYnjR0UgfqnH0krNtknjDLg1nvnjD0pvbqn0KzIjYdPjn0uy-b5HDYPWPxnWDsrjKxnHTsnj7xnW04nW60mhbqnW0Y0AdW5HTkP16sPWmkn7tLnH61nWcYnWKxn0KkTA-b5H00TyPGujYs0ZFMIA7M5H00mycqn7ts0ANzu1Ys0ZKs5H00UMus5H08nj0snj0snj00Ugws5H00uAwETjYs0ZFJ5H00uANv5gKW0AuY5H00TA6qn0KET1Ys0AFL5HDs0A4Y5H00TLCq0ZwdT1YkPWfknH6YPHfsnHf1P1bdPWmvPsKzug7Y5HDdnHTknWRLPWcvPHD0Tv-b5y7BnyRzPjIBnj0snj-9rHn0mLPV5HKDwRmdwD7DnHmdwRFawWm0mynqnfKsUWYs0Z7VIjYs0Z7VT1Ys0ZGY5H00UyPxuMFEUHYsg1Kxn0Kbmy4dmhNxTAk9Uh-bT1Ysg1Kxn0Ksmgwxuhk9u1Ys0AwWpyfqn0K-IA-b5iYk0A71TAPW5H00IgKGUhPW5H00Tydh5H00uhPdIjYs0AulpjYs0Au9IjYs0ZGsUZN15H00mywhUA7M5HD0UAuW5H00mLFW5HnYP10k&ck=0.0.0.0.0.0.0.0&shh=www.baidu.com&sht=baidu\n",
      "python的学习_从入门到精通-网易云课堂 http://www.baidu.com/baidu.php?url=Ks0000amqZra9B-6541219bmxFZYhaNe76gywBRLqwQqnMxbVWzV1rXMK9_K-msHbPMNHvUbmXPnAfchVOsaSrLozT456UBDgyDFZt2EnSr5WWm7xiHguDp9OUgGc_D45TzoKSL8xEk-hkcvYK9HA_kmfB19cY_0Xw7NESX5KmFMUa7ojs.7D_iwYn7vWzolX2ccypaIHGVDZuuuuuuuuug8zyIhHE6CpXyPvap7Q7erQKdsRP5QGHTOKGm9ksqT7jHzs_lTUQqRHjrEySBqh6Mo6CpXy6hUikqOYryzEWIdsRP5Qal26h26kS5MODRojPakbzyI57f.U1Yz0ZDqTZ-YpAq80ZKGm1Yk0ZfqTZ-YpAq8VTHwGtSs0A-V5HczPfKM5yF-TZns0ZNG5yF9pywd0ZKGujYz0APGujYYnjR0UgfqnH0krNtknjDLg1nznW9xn1msnfKopHYs0ZFY5HRYnsK-pyfqnHfvndtznH03n7tkP10snNtznjbzr0KBpHYznjwxnHRd0AdW5HTknHmdrHDvP-tLnHckrjDdP1NxnH0zg100TgKGujYs0Z7Wpyfqn0KzuLw9u1Ys0A7B5HKxn0K-ThTqn0KsTjYs0A4vTjYsQW0snj0snj0s0AdYTjYs0AwbUL0qn0KzpWYs0Aw-IWdsmsKhIjYs0ZKC5H00ULnqn0KBI1Ykn0K8IjYs0ZPl5fKYIgnqP10dnH6kP1TsPHRvPjm4nHc1PsKzug7Y5HDdnHTknWRLPWcvPHD0Tv-b5y7BnyRzPjIBnj0snj-9rHn0mLPV5HKDwRmdwD7DnHmdwRFawWm0mynqnfKsUWYs0Z7VIjYs0Z7VT1Ys0ZGY5H00UyPxuMFEUHYsg1Kxn7ts0Aw9UMNBuNqsUA78pyw15HKxn7tznjcLP1m4g100TA7Ygvu_myTqn0Kbmv-b5H00ugwGujYVnfK9TLKWm1Ys0ZNspy4Wm1Ys0Z7VuWYs0AuWIgfqn0KhXh6qn0Khmgfqn0KlTAkdT1Ys0A7buhk9u1Yk0Akhm1Ys0APzm1YYnHfdn6&ck=0.0.0.0.0.0.0.0&shh=www.baidu.com&sht=baidu\n",
      "python免费试用_重磅福利_华为云助您敏捷上云 http://www.baidu.com/baidu.php?url=Ks0000amqZra9B-65YdXUMBpKRR52wt-WCXmqyjtmNgGesUKWiurl6dVXPvJOCj75Vw0RuZovU3hqPJ74uZJONWVTAwkbaSTnqRimeCNg0ifg1QszpBWE-KLTyxKmnOGl0gGPfbUjVFPsk8O2nvi7UF9V1Nw_KWsk7kKX3SfcEIzN12NKs.7b_insYZOfS9CtJ_j50-tP7va4D7zxCHwIWHPz3lQnRALMLsRP5QAeKPa-Wdukmr8a9G4I2UM3PQDrrZo6CpXy7MHWuxJBmsSxW9qVhZxvmx5ksSLx9qXM59tSMjElT5oEsSxH9qVXZu_13x5u9qx-9qEdsSxu9qxgjlqrZ1Lmxg3Trz1j4e_r1l3IqXZ1en5oeTrSEo6CpXy7YNKnNKWj4SrZvvmIOu9tOZjeISZdlTSZ1vmxg4mxUqT5MvmxgdsSEH9tqvZdSZj__sSXej_S8Zxg9tS1jlSLjEo13x5GseO9sSLl3x5u9qEdsSL4IT7jHzYD1py51p27HC-2s1f_U_Mu8R.U1Y10ZDqTZ-YpAq80ZKGm1Yk0ZfqTZ-YpAq80A-V5HczPfKM5yF-TZns0ZNG5yF9pywd0ZKGujYz0APGujYYnjR0UgfqnH0kPdtknjD4g1DsnHPxn1czr7t1PW0k0AVG5H00TMfqPHf10ANGujYkPjm1g1cknj6sg1DLnj0kg1csrHc30AFG5HcsP0KVm1YLnH6LPjD3PH7xP1D4nWR3Pjnzg1cLrHmvnjmsPjwxnH0zg100TgKGujYs0Z7Wpyfqn0KzuLw9u1Ys0A7B5HKxn0K-ThTqn0KsTjYs0A4vTjYsQW0snj0snj0s0AdYTjYs0AwbUL0qn0KzpWYs0Aw-IWdsmsKhIjYs0ZKC5H00ULnqn0KBI1Ykn0K8IjYs0ZPl5fKYIgnqrjDvn1bYrjfLrHTLnHbvnH6Lr0Kzug7Y5HDdnHTknWRLPWcvPHD0Tv-b5y7BnyRzPjIBnj0snj-9rHn0mLPV5HKDwRmdwD7DnHmdwRFawWm0mynqnfKsUWYs0Z7VIjYs0Z7VT1Ys0ZGY5H00UyPxuMFEUHYsg1Kxn7tsg100uA78IyF-gLK_my4GuZnqn7tsg1KxnHbznWTLn-ts0ZK9I7qhUA7M5H00uAPGujYs0ANYpyfqQHD0mgPsmvnqn0KdTA-8mvnqn0KkUymqn0KhmLNY5H00uMGC5H00uh7Y5H00XMK_Ignqn0K9uAu_myTqnfK_uhnqn0KWThnqnWDkPWR&ck=0.0.0.0.0.0.0.0&shh=www.baidu.com&sht=baidu\n",
      "Welcome to Python.org http://www.baidu.com/link?url=EAwBwFRrf3vHB8bNd5v0O8JtGpd8NGok-Xfzei9kq_26UmWnImuDGAIv-RJCHcw_\n",
      "官网 http://trust.baidu.com/vstar/official/intro?type=gw\n",
      "Python_百度百科 http://www.baidu.com/link?url=u4vkMMKb447S3JJObs_uC8BwQxBUIp0qtAXSavAgn3wFftnQ2x9yM2sFY9P-oKl1kDcv1ZGQbYJyxbgMxGvNwa\n",
      "Python教程 - 廖雪峰的官方网站 http://www.baidu.com/link?url=hQ0GKKg5jryeVA22j9oFaNEAdzGeQUWE6LUJDK9_TULFX6eF7nx80HurCuKfqc-DC_BEND7fKpelmLAe3-ym2h7K8RnCKnzWehgDg8tQQIISjSuddQJrpAXFJLnbMc8_\n",
      "Download Python | Python.org http://www.baidu.com/link?url=4qNJ8cie8UF4F9DrgyxG0jJKL31bSnpPTfGK3lfnLvFUbrqiGBLii_J8WEpGr25I\n",
      "Python 基础教程 | 菜鸟教程 http://www.baidu.com/link?url=yv-4OMpeQGGqQdTFFEa4hg8YPhRGQuFS7RbZoPWcoN-6ZntrIwHxkpAUlyPH5QPAY2ENd_q4RhmszMK490piUq\n",
      "Python 简介 | 菜鸟教程 http://www.baidu.com/link?url=79Ve5D0nOaSmjit4YJDobEWPGCfFNzEkaK9y3I80Nb7sMG23huYsyDcIuAO5HUzVKLEwRkgt9A31Gk82mCrcPK\n",
      "你是如何自学 Python 的? - 知乎 http://www.baidu.com/link?url=TCjWSyNvYwq1vY0EVDiHG-HNve_MPbXeRqR4lhrW7e7g5VAJU_IiO_8NppwoBHW9u9H4WWcj-JmzsSINMnGIzq\n",
      "Python Releases for Windows | Python.org http://www.baidu.com/link?url=AYPVuT2nm91Wa8qFXoQvETb9xe-f0vMw2ErwC9QJRpG2rxvYq8Ejj5ZSE1plaT4_3Fx3dXli4orAX3MOKndp8K\n",
      "达内python:【Python+人工智能+大数据分析】 http://www.baidu.com/baidu.php?url=Ks0000amqZra9B-65scbMZVdzs-ZSJpxBzx2iP_Cv7nQy1g-BYRAnGgjA92PNnOagEvFLITw6XyL9NsFJqySaoBO8Of-zZlE8RQiY9iLdGWP_Qj-dP79vj-b0_NerXqEiPa_ygfMQNaD0W_d6sPFY9w1PER5FvnAwhpAAGR34-kx670Pxf.DY_iwdXy5wfJI74RDLmrij9Cfmq7aGYRZxqjvOlO5tEV4mlEuMWJ1SEz1OhSZ5S534tXB9RlQ5vs4lePq-IhHIM__zulq--III-MWgYe8gqjvOlO5tEVRojPakgvyI26.U1Yk0ZDqTZ-YpAq80ZKGm1Yk0ZfqTZ-YpAq80A-V5HczPsKM5yF-TZns0ZNG5yF9pywd0ZKGujYz0APGujYYnjR0Ugfqn1czr7t1nHbvg1DsnHIxnH0krNt1PW0k0AVG5H00TMfqPHf10ANGujYkPjm1g1cknj6sg1DLnj0kg1csrHc30AFG5HcsP0KVm1YknjFxnH0zg1TkrjTdnH6YP7tLnH6LPHD3PHPxn0KkTA-b5H00TyPGujYs0ZFMIA7M5H00mycqn7ts0ANzu1Ys0ZKs5H00UMus5H08nj0snj0snj00Ugws5H00uAwETjYs0ZFJ5H00uANv5gKW0AuY5H00TA6qn0KET1Ys0AFL5HDs0A4Y5H00TLCq0ZwdT1YknWc1rjD1nHbLrHTzrHcsrj0LnfKzug7Y5HDdnHTknWRLPWcvPHD0Tv-b5y7BnyRzPjIBnj0snj-9rHn0mLPV5HKDwRmdwD7DnHmdwRFawWm0mynqnfKsUWYs0Z7VIjYs0Z7VT1Ys0ZGY5H00UyPxuMFEUHYsg1Kxn7tsg100uA78IyF-gLK_my4GuZnqnWcvrjfLndtznWTsPHb3g1Kxn7ts0ZK9I7qhUA7M5H00uAPGujYs0ANYpyfqQHD0mgPsmvnqn0KdTA-8mvnqn0KkUymqn0KhmLNY5H00uMGC5H00uh7Y5H00XMK_Ignqn0K9uAu_myTqnfK_uhnqn0KWThnqn1m3nHb&ck=0.0.0.0.0.0.0.0&shh=www.baidu.com&sht=baidu\n",
      " http://www.baidu.com/baidu.php?url=Ks0000amqZra9B-65scbMZVdzs-ZSJpxBzx2iP_Cv7nQy1g-BYRAnGgjA92PNnOagEvFLITw6XyL9NsFJqySaoBO8Of-zZlE8RQiY9iLdGWP_Qj-dP79vj-b0_NerXqEiPa_ygfMQNaD0W_d6sPFY9w1PER5FvnAwhpAAGR34-kx670Pxf.DY_iwdXy5wfJI74RDLmrij9Cfmq7aGYRZxqjvOlO5tEV4mlEuMWJ1SEz1OhSZ5S534tXB9RlQ5vs4lePq-IhHIM__zulq--III-MWgYe8gqjvOlO5tEVRojPakgvyI26.U1Yk0ZDqTZ-YpAq80ZKGm1Yk0ZfqTZ-YpAq80A-V5HczPsKM5yF-TZns0ZNG5yF9pywd0ZKGujYz0APGujYYnjR0Ugfqn1czr7t1nHbvg1DsnHIxnH0krNt1PW0k0AVG5H00TMfqPHf10ANGujYkPjm1g1cknj6sg1DLnj0kg1csrHc30AFG5HcsP0KVm1YknjFxnH0zg1TkrjTdnH6YP7tLnH6LPHD3PHPxn0KkTA-b5H00TyPGujYs0ZFMIA7M5H00mycqn7ts0ANzu1Ys0ZKs5H00UMus5H08nj0snj0snj00Ugws5H00uAwETjYs0ZFJ5H00uANv5gKW0AuY5H00TA6qn0KET1Ys0AFL5HDs0A4Y5H00TLCq0ZwdT1YknWc1rjD1nHbLrHTzrHcsrj0LnfKzug7Y5HDdnHTknWRLPWcvPHD0Tv-b5y7BnyRzPjIBnj0snj-9rHn0mLPV5HKDwRmdwD7DnHmdwRFawWm0mynqnfKsUWYs0Z7VIjYs0Z7VT1Ys0ZGY5H00UyPxuMFEUHYsg1Kxn7tsg100uA78IyF-gLK_my4GuZnqnWcvrjfLndtznWTsPHb3g1Kxn7ts0ZK9I7qhUA7M5H00uAPGujYs0ANYpyfqQHD0mgPsmvnqn0KdTA-8mvnqn0KkUymqn0KhmLNY5H00uMGC5H00uh7Y5H00XMK_Ignqn0K9uAu_myTqnfK_uhnqn0KWThnqn1m3nHb&ck=0.0.0.0.0.0.0.0&shh=www.baidu.com&sht=baidu\n",
      "想学编程拿高薪又怕难?学python啊 http://www.baidu.com/baidu.php?url=Ks0000amqZra9B-65YTerqAlqIl0Q6V_SSNodh9vWC-x8JZxYXf1ksZoRuTpiAAUWyoFij9bV05nzpysRxHGGdy-GEPLSp35hUN-bJgEWPOhqOG_xmdK20H_0uTz9ioJjog_NPRB2ENBcMknEzXSqmIt_yjmbPHNjQ-dF1lGjXw_LVvVk0.7Y_iwdXN7tyjCtJaU_ZFKsYcnXB9Rl2jES9exqxMSgvt_Ig_1kduOg4uO1xjMOZtTq7tyjC1q_rxx3qreGlIvXzEWMovyNddvNeVheIzOCXLOg4O-qJ-muCy2qdXHmC.U1Yz0ZDqTZ-YpAq80ZKGm1Yk0ZfqTZ-YpAq80A-V5HczPsKM5yF-TZns0ZNG5yF9pywd0ZKGujYz0APGujYYnjR0Ugfqn10sP-tknjDLg1DsnHPxnH0krNt1PW0k0AVG5H00TMfqPHf10ANGujYkPjm1g1cknj6sg1DLnj0kg1csrHc30AFG5HcsP0KVm1YknjFxP1D4nWTdnHb3g1cvPWcLPjD1rHNxP1D4nWm3rjfdg100TgKGujYs0Z7Wpyfqn0KzuLw9u1Ys0A7B5HKxn0K-ThTqn0KsTjYs0A4vTjYsQW0snj0snj0s0AdYTjYs0AwbUL0qn0KzpWYs0Aw-IWdsmsKhIjYs0ZKC5H00ULnqn0KBI1Ykn0K8IjYs0ZPl5fKYIgnqnHnvP10dPH0LnHnzn1csP1bknWT0ThNkIjYkPHDLnHcdP1mzPWRk0ZPGujd9mW7-nWfLmW0snj04mHb10AP1UHYswDNAPRwKwjDvPRNafbmv0A7W5HD0TA3qn0KkUgfqn0KkUgnqn0KlIjYs0AdWgvuzUvYqn10knNtsg1Kxn7ts0Aw9UMNBuNqsUA78pyw15HDdrHbdn17xn7tsg1Kxn0Ksmgwxuhk9u1Ys0AwWpyfqnW6dnWDzPWTz0ANYpyfqQHD0mgPsmvnqn0KdTA-8mvnqn0KkUymqn0KhmLNY5H00uMGC5H00uh7Y5H00XMK_Ignqn0K9uAu_myTqnfK_uhnqn0KWThnqP1bvPs&ck=0.0.0.0.0.0.0.0&shh=www.baidu.com&sht=baidu\n",
      " http://www.baidu.com/baidu.php?url=Ks0000amqZra9B-65YTerqAlqIl0Q6V_SSNodh9vWC-x8JZxYXf1ksZoRuTpiAAUWyoFij9bV05nzpysRxHGGdy-GEPLSp35hUN-bJgEWPOhqOG_xmdK20H_0uTz9ioJjog_NPRB2ENBcMknEzXSqmIt_yjmbPHNjQ-dF1lGjXw_LVvVk0.7Y_iwdXN7tyjCtJaU_ZFKsYcnXB9Rl2jES9exqxMSgvt_Ig_1kduOg4uO1xjMOZtTq7tyjC1q_rxx3qreGlIvXzEWMovyNddvNeVheIzOCXLOg4O-qJ-muCy2qdXHmC.U1Yz0ZDqTZ-YpAq80ZKGm1Yk0ZfqTZ-YpAq80A-V5HczPsKM5yF-TZns0ZNG5yF9pywd0ZKGujYz0APGujYYnjR0Ugfqn10sP-tknjDLg1DsnHPxnH0krNt1PW0k0AVG5H00TMfqPHf10ANGujYkPjm1g1cknj6sg1DLnj0kg1csrHc30AFG5HcsP0KVm1YknjFxP1D4nWTdnHb3g1cvPWcLPjD1rHNxP1D4nWm3rjfdg100TgKGujYs0Z7Wpyfqn0KzuLw9u1Ys0A7B5HKxn0K-ThTqn0KsTjYs0A4vTjYsQW0snj0snj0s0AdYTjYs0AwbUL0qn0KzpWYs0Aw-IWdsmsKhIjYs0ZKC5H00ULnqn0KBI1Ykn0K8IjYs0ZPl5fKYIgnqnHnvP10dPH0LnHnzn1csP1bknWT0ThNkIjYkPHDLnHcdP1mzPWRk0ZPGujd9mW7-nWfLmW0snj04mHb10AP1UHYswDNAPRwKwjDvPRNafbmv0A7W5HD0TA3qn0KkUgfqn0KkUgnqn0KlIjYs0AdWgvuzUvYqn10knNtsg1Kxn7ts0Aw9UMNBuNqsUA78pyw15HDdrHbdn17xn7tsg1Kxn0Ksmgwxuhk9u1Ys0AwWpyfqnW6dnWDzPWTz0ANYpyfqQHD0mgPsmvnqn0KdTA-8mvnqn0KkUymqn0KhmLNY5H00uMGC5H00uh7Y5H00XMK_Ignqn0K9uAu_myTqnfK_uhnqn0KWThnqP1bvPs&ck=0.0.0.0.0.0.0.0&shh=www.baidu.com&sht=baidu\n"
     ]
    }
   ],
   "source": [
    "# 模拟百度搜索\n",
    "import time\n",
    "\n",
    "driver = webdriver.Chrome()\n",
    "driver.get('http://www.baidu.com')\n",
    "time.sleep(2)\n",
    "search_input = driver.find_element_by_css_selector('input#kw')\n",
    "search_input.send_keys('python')\n",
    "time.sleep(2)\n",
    "submit = driver.find_element_by_css_selector('input#su')\n",
    "submit.click() # 如果click无效，可以尝试driver.execute_script('arguments[0].click();', element)\n",
    "time.sleep(2)\n",
    "results = driver.find_elements_by_css_selector('h3 > a')\n",
    "for result in results:\n",
    "    print(result.text, result.get_attribute('href'))\n",
    "driver.quit()"
   ]
  },
  {
   "cell_type": "code",
   "execution_count": 24,
   "metadata": {
    "collapsed": false
   },
   "outputs": [
    {
     "name": "stdout",
     "output_type": "stream",
     "text": [
      "1020 13817\n"
     ]
    }
   ],
   "source": [
    "# 利用selenium制作截图工具\n",
    "options = webdriver.ChromeOptions()\n",
    "options.add_argument('--headless') # 如果截图不正确请先检查option\n",
    "options.add_argument('--disable-gpu')\n",
    "driver = webdriver.Chrome(chrome_options=options) # 带options的初始化\n",
    "driver.get('http://news.sina.com.cn')\n",
    "width = driver.execute_script('return Math.max(document.body.scrollWidth, document.body.offsetWidth, document.documentElement.clientWidth, document.documentElement.scrollWidth, document.documentElement.offsetWidth);')\n",
    "height = driver.execute_script('return Math.max(document.body.scrollHeight, document.body.offsetHeight, document.documentElement.clientHeight, document.documentElement.scrollHeight, document.documentElement.offsetHeight);')\n",
    "print(width, height)\n",
    "driver.set_window_size(width, height)\n",
    "driver.save_screenshot('sina_news.jpg')\n",
    "driver.quit()"
   ]
  },
  {
   "cell_type": "code",
   "execution_count": 25,
   "metadata": {
    "collapsed": true
   },
   "outputs": [],
   "source": [
    "# 作业\n",
    "# 1. 利用www.okex.com提供的API抓取所有山寨币对比特币的报价，要求速度尽可能快。\n",
    "# 2. 利用selenium实现豆瓣用户名/密码登陆，\n",
    "#    如果有验证码，提示用户在命令行交互界面输入，然后再由selenium提交验证码。"
   ]
  },
  {
   "cell_type": "code",
   "execution_count": null,
   "metadata": {
    "collapsed": true
   },
   "outputs": [],
   "source": []
  }
 ],
 "metadata": {
  "kernelspec": {
   "display_name": "Python 3",
   "language": "python",
   "name": "python3"
  },
  "language_info": {
   "codemirror_mode": {
    "name": "ipython",
    "version": 3
   },
   "file_extension": ".py",
   "mimetype": "text/x-python",
   "name": "python",
   "nbconvert_exporter": "python",
   "pygments_lexer": "ipython3",
   "version": "3.6.0"
  }
 },
 "nbformat": 4,
 "nbformat_minor": 2
}
