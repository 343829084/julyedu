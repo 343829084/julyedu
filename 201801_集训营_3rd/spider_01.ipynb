{
 "cells": [
  {
   "cell_type": "code",
   "execution_count": 1,
   "metadata": {
    "collapsed": true
   },
   "outputs": [],
   "source": [
    "# 爬虫简介\n",
    "# 数据是机器学习的燃料，爬虫就是获取数据的挖掘机。"
   ]
  },
  {
   "cell_type": "code",
   "execution_count": 2,
   "metadata": {
    "collapsed": true
   },
   "outputs": [],
   "source": [
    "# 第一节 直接使用封装好的接口获取数据"
   ]
  },
  {
   "cell_type": "code",
   "execution_count": 3,
   "metadata": {
    "collapsed": false,
    "scrolled": true
   },
   "outputs": [
    {
     "data": {
      "text/html": [
       "<div>\n",
       "<table border=\"1\" class=\"dataframe\">\n",
       "  <thead>\n",
       "    <tr style=\"text-align: right;\">\n",
       "      <th></th>\n",
       "      <th>open</th>\n",
       "      <th>high</th>\n",
       "      <th>close</th>\n",
       "      <th>low</th>\n",
       "      <th>volume</th>\n",
       "      <th>price_change</th>\n",
       "      <th>p_change</th>\n",
       "      <th>ma5</th>\n",
       "      <th>ma10</th>\n",
       "      <th>ma20</th>\n",
       "      <th>v_ma5</th>\n",
       "      <th>v_ma10</th>\n",
       "      <th>v_ma20</th>\n",
       "    </tr>\n",
       "    <tr>\n",
       "      <th>date</th>\n",
       "      <th></th>\n",
       "      <th></th>\n",
       "      <th></th>\n",
       "      <th></th>\n",
       "      <th></th>\n",
       "      <th></th>\n",
       "      <th></th>\n",
       "      <th></th>\n",
       "      <th></th>\n",
       "      <th></th>\n",
       "      <th></th>\n",
       "      <th></th>\n",
       "      <th></th>\n",
       "    </tr>\n",
       "  </thead>\n",
       "  <tbody>\n",
       "    <tr>\n",
       "      <th>2018-01-02</th>\n",
       "      <td>2.86</td>\n",
       "      <td>2.91</td>\n",
       "      <td>2.91</td>\n",
       "      <td>2.86</td>\n",
       "      <td>4776970.00</td>\n",
       "      <td>0.05</td>\n",
       "      <td>1.75</td>\n",
       "      <td>2.870</td>\n",
       "      <td>2.875</td>\n",
       "      <td>2.868</td>\n",
       "      <td>5108968.20</td>\n",
       "      <td>4969266.33</td>\n",
       "      <td>5051746.58</td>\n",
       "    </tr>\n",
       "    <tr>\n",
       "      <th>2018-01-03</th>\n",
       "      <td>2.91</td>\n",
       "      <td>2.95</td>\n",
       "      <td>2.91</td>\n",
       "      <td>2.91</td>\n",
       "      <td>5708743.00</td>\n",
       "      <td>0.00</td>\n",
       "      <td>0.00</td>\n",
       "      <td>2.874</td>\n",
       "      <td>2.879</td>\n",
       "      <td>2.868</td>\n",
       "      <td>5265180.70</td>\n",
       "      <td>5021250.08</td>\n",
       "      <td>4890998.78</td>\n",
       "    </tr>\n",
       "    <tr>\n",
       "      <th>2018-01-04</th>\n",
       "      <td>2.91</td>\n",
       "      <td>2.93</td>\n",
       "      <td>2.92</td>\n",
       "      <td>2.91</td>\n",
       "      <td>3084130.75</td>\n",
       "      <td>0.01</td>\n",
       "      <td>0.34</td>\n",
       "      <td>2.892</td>\n",
       "      <td>2.883</td>\n",
       "      <td>2.871</td>\n",
       "      <td>4165531.45</td>\n",
       "      <td>4922446.00</td>\n",
       "      <td>4812177.54</td>\n",
       "    </tr>\n",
       "    <tr>\n",
       "      <th>2018-01-05</th>\n",
       "      <td>2.92</td>\n",
       "      <td>2.94</td>\n",
       "      <td>2.93</td>\n",
       "      <td>2.92</td>\n",
       "      <td>3220088.25</td>\n",
       "      <td>0.01</td>\n",
       "      <td>0.34</td>\n",
       "      <td>2.906</td>\n",
       "      <td>2.887</td>\n",
       "      <td>2.875</td>\n",
       "      <td>3906197.70</td>\n",
       "      <td>4670167.18</td>\n",
       "      <td>4674675.88</td>\n",
       "    </tr>\n",
       "  </tbody>\n",
       "</table>\n",
       "</div>"
      ],
      "text/plain": [
       "            open  high  close   low      volume  price_change  p_change  \\\n",
       "date                                                                      \n",
       "2018-01-02  2.86  2.91   2.91  2.86  4776970.00          0.05      1.75   \n",
       "2018-01-03  2.91  2.95   2.91  2.91  5708743.00          0.00      0.00   \n",
       "2018-01-04  2.91  2.93   2.92  2.91  3084130.75          0.01      0.34   \n",
       "2018-01-05  2.92  2.94   2.93  2.92  3220088.25          0.01      0.34   \n",
       "\n",
       "              ma5   ma10   ma20       v_ma5      v_ma10      v_ma20  \n",
       "date                                                                 \n",
       "2018-01-02  2.870  2.875  2.868  5108968.20  4969266.33  5051746.58  \n",
       "2018-01-03  2.874  2.879  2.868  5265180.70  5021250.08  4890998.78  \n",
       "2018-01-04  2.892  2.883  2.871  4165531.45  4922446.00  4812177.54  \n",
       "2018-01-05  2.906  2.887  2.875  3906197.70  4670167.18  4674675.88  "
      ]
     },
     "execution_count": 3,
     "metadata": {},
     "output_type": "execute_result"
    }
   ],
   "source": [
    "# tushare获取股票数据\n",
    "import pandas as pd\n",
    "import tushare as ts\n",
    "\n",
    "data = ts.get_hist_data('510050',start='2018-01-01',end='2018-01-05')\n",
    "data.index = pd.to_datetime(data.index)\n",
    "data = data[::-1]\n",
    "data.head()"
   ]
  },
  {
   "cell_type": "code",
   "execution_count": 4,
   "metadata": {
    "collapsed": true
   },
   "outputs": [],
   "source": [
    "# 第二节 requests库"
   ]
  },
  {
   "cell_type": "code",
   "execution_count": 5,
   "metadata": {
    "collapsed": true
   },
   "outputs": [],
   "source": [
    "# 官网：http://cn.python-requests.org/zh_CN/latest/\n",
    "# 一句话简介：Requests 唯一的一个非转基因的 Python HTTP 库，人类可以安全享用。\n",
    "# 不服的话请自行挑战urllib库。\n",
    "# 安装：pip install requests"
   ]
  },
  {
   "cell_type": "code",
   "execution_count": 6,
   "metadata": {
    "collapsed": true
   },
   "outputs": [],
   "source": [
    "# 常用HTTP请求的功能\n",
    "# Get: 请求指定的资源\n",
    "# Head: 检查资源是否存在\n",
    "# Put: 更新资源 \n",
    "# Delete: 删除资源\n",
    "# Post: 上传资源和表单"
   ]
  },
  {
   "cell_type": "code",
   "execution_count": 7,
   "metadata": {
    "collapsed": true
   },
   "outputs": [],
   "source": [
    "# HTTP请求结构：\n",
    "# https://www.xxx.com/yyy?v1=a&v2=b\n",
    "# 协议名称是https\n",
    "# url是www.xxx.com/yyy\n",
    "# 有2个参数v1和v2，对应值是a和b。"
   ]
  },
  {
   "cell_type": "code",
   "execution_count": 8,
   "metadata": {
    "collapsed": true
   },
   "outputs": [],
   "source": [
    "# http://httpbin.org/是个很好的测试和学习对象"
   ]
  },
  {
   "cell_type": "code",
   "execution_count": 9,
   "metadata": {
    "collapsed": false
   },
   "outputs": [
    {
     "name": "stdout",
     "output_type": "stream",
     "text": [
      "<class 'str'>\n",
      "{\"one\": 1, \"two\": 2}\n",
      "<class 'dict'>\n",
      "{'one': 1, 'two': 2}\n"
     ]
    }
   ],
   "source": [
    "# 关于json格式字符串的处理\n",
    "import json\n",
    "\n",
    "data = {'one': 1, 'two': 2}\n",
    "s = json.dumps(data) # 字典 -> json格式字符串\n",
    "print(type(s))\n",
    "print(s)\n",
    "jdata = json.loads(s) # json格式字符串 -> 字典\n",
    "print(type(jdata))\n",
    "print(jdata)"
   ]
  },
  {
   "cell_type": "code",
   "execution_count": 10,
   "metadata": {
    "collapsed": false
   },
   "outputs": [
    {
     "name": "stdout",
     "output_type": "stream",
     "text": [
      "200\n",
      "None\n",
      "{'Connection': 'keep-alive', 'Server': 'meinheld/0.6.1', 'Date': 'Mon, 29 Jan 2018 13:53:53 GMT', 'Content-Type': 'application/json', 'Access-Control-Allow-Origin': '*', 'Access-Control-Allow-Credentials': 'true', 'X-Powered-By': 'Flask', 'X-Processed-Time': '0.00144696235657', 'Content-Length': '268', 'Via': '1.1 vegur'}\n",
      "{\n",
      "  \"args\": {}, \n",
      "  \"headers\": {\n",
      "    \"Accept\": \"*/*\", \n",
      "    \"Accept-Encoding\": \"gzip, deflate\", \n",
      "    \"Connection\": \"close\", \n",
      "    \"Host\": \"httpbin.org\", \n",
      "    \"User-Agent\": \"python-requests/2.12.4\"\n",
      "  }, \n",
      "  \"origin\": \"183.193.155.125\", \n",
      "  \"url\": \"http://httpbin.org/get\"\n",
      "}\n",
      "\n",
      "<class 'dict'>\n",
      "{'args': {}, 'headers': {'Accept': '*/*', 'Accept-Encoding': 'gzip, deflate', 'Connection': 'close', 'Host': 'httpbin.org', 'User-Agent': 'python-requests/2.12.4'}, 'origin': '183.193.155.125', 'url': 'http://httpbin.org/get'}\n"
     ]
    }
   ],
   "source": [
    "# Get请求\n",
    "import requests\n",
    "r = requests.get(\"http://httpbin.org/get\")\n",
    "print(r.status_code) # 返回HTTP状态码\n",
    "print(r.encoding) # 响应内容的编码\n",
    "print(r.headers) # 响应的头部信息\n",
    "print(r.text)\n",
    "jdata = r.json()\n",
    "print(type(jdata))\n",
    "print(jdata)"
   ]
  },
  {
   "cell_type": "code",
   "execution_count": 11,
   "metadata": {
    "collapsed": false
   },
   "outputs": [
    {
     "name": "stdout",
     "output_type": "stream",
     "text": [
      "http://httpbin.org/get?key1=value1&key2=value2\n",
      "{'key1': 'value1', 'key2': 'value2'}\n"
     ]
    }
   ],
   "source": [
    "# 带参数的get请求\n",
    "payload = {'key1': 'value1', 'key2': 'value2'}\n",
    "r = requests.get(\"http://httpbin.org/get\", params=payload)\n",
    "print(r.url)\n",
    "print(r.json()['args'])"
   ]
  },
  {
   "cell_type": "code",
   "execution_count": 12,
   "metadata": {
    "collapsed": false
   },
   "outputs": [
    {
     "name": "stdout",
     "output_type": "stream",
     "text": [
      "{'key1': 'value1', 'key2': 'value2'}\n"
     ]
    }
   ],
   "source": [
    "# Post请求\n",
    "payload = {'key1': 'value1', 'key2': 'value2'}\n",
    "r = requests.post(\"http://httpbin.org/post\", data=payload)\n",
    "print(r.json()['form'])"
   ]
  },
  {
   "cell_type": "code",
   "execution_count": 13,
   "metadata": {
    "collapsed": false
   },
   "outputs": [
    {
     "name": "stdout",
     "output_type": "stream",
     "text": [
      "{'Date': 'Mon, 29 Jan 2018 13:54:21 GMT', 'Content-Type': 'text/html; charset=utf-8', 'Transfer-Encoding': 'chunked', 'Connection': 'keep-alive', 'Keep-Alive': 'timeout=30', 'Vary': 'Accept-Encoding', 'X-Xss-Protection': '1; mode=block', 'X-Douban-Mobileapp': '0', 'Expires': 'Sun, 1 Jan 2006 01:00:00 GMT', 'Pragma': 'no-cache', 'Cache-Control': 'must-revalidate, no-cache, private', 'Set-Cookie': 'll=\"108296\"; path=/; domain=.douban.com; expires=Tue, 29-Jan-2019 13:54:21 GMT, bid=1T2ogICv-Mg; Expires=Tue, 29-Jan-19 13:54:21 GMT; Domain=.douban.com; Path=/', 'X-DOUBAN-NEWBID': '1T2ogICv-Mg', 'X-DAE-Node': 'sindar13d', 'X-DAE-App': 'sns', 'Server': 'dae', 'Strict-Transport-Security': 'max-age=15552000;', 'Content-Encoding': 'gzip'}\n",
      "bid 1T2ogICv-Mg\n",
      "ll \"108296\"\n"
     ]
    }
   ],
   "source": [
    "# Cookie处理\n",
    "r = requests.get('http://www.douban.com')\n",
    "print(r.headers)\n",
    "for k in r.cookies.keys():\n",
    "    print(k, r.cookies[k])"
   ]
  },
  {
   "cell_type": "code",
   "execution_count": 14,
   "metadata": {
    "collapsed": true
   },
   "outputs": [],
   "source": [
    "# 二进制内容处理\n",
    "from PIL import Image\n",
    "from io import BytesIO\n",
    "\n",
    "r = requests.get('http://image1.ljcdn.com/shfdfs-image/m_fit,w_960,q_90/20180127/81244784-d394-47f4-8a2c-77826b8f9e0f.jpg')\n",
    "image = Image.open(BytesIO(r.content))\n",
    "image.save('lianjia.jpg')"
   ]
  },
  {
   "cell_type": "code",
   "execution_count": 15,
   "metadata": {
    "collapsed": false
   },
   "outputs": [
    {
     "name": "stdout",
     "output_type": "stream",
     "text": [
      "万 科Ａ: 40.380, 38.570, 40.560, 38.090, \n"
     ]
    }
   ],
   "source": [
    "# 使用requests库从新浪获取股票数据\n",
    "def get_stock_info(code):\n",
    "    api = 'http://hq.sinajs.cn/list='\n",
    "    r = requests.get(api + code)\n",
    "    data_str = r.text.split('=')[1].replace('\"', '')[:-2]\n",
    "    infos = data_str.split(',')\n",
    "    s = infos[0] + ': '\n",
    "    s += infos[1] + ', ' # 开\n",
    "    s += infos[3] + ', ' # 收\n",
    "    s += infos[4] + ', ' # 高\n",
    "    s += infos[5] + ', ' # 低\n",
    "    print(s)\n",
    "    \n",
    "get_stock_info('sz000002')"
   ]
  },
  {
   "cell_type": "code",
   "execution_count": 16,
   "metadata": {
    "collapsed": true
   },
   "outputs": [],
   "source": [
    "# 第3节 css定位器与bs4网页解析"
   ]
  },
  {
   "cell_type": "code",
   "execution_count": 17,
   "metadata": {
    "collapsed": true
   },
   "outputs": [],
   "source": [
    "# HTML基础知识\n",
    "# 对于HTML/CSS/JavaScript零基础同学：http://www.w3school.com.cn/\n",
    "# <标签 属性_1=值_1 属性_2=值_2>内容...</标签>\n",
    "# id和class作为2个特殊标签被特别对待"
   ]
  },
  {
   "cell_type": "code",
   "execution_count": 18,
   "metadata": {
    "collapsed": true
   },
   "outputs": [],
   "source": [
    "# css选择器（可以使用浏览器的开发者工具检查或生成选择器）\n",
    "# 选择标签：直接输入标签名字，如head/ul，用 > 表示层级关系，比如ul > li（当中的空格必须保留）。\n",
    "# 选择id：#id，比如百度搜索的“百度一下”按钮可以用 #su 定位。\n",
    "# 选择class: .classname，比如百度搜索的搜索框可以用 .s_ipt 定位。\n",
    "# id和class的区别：理论上id是唯一的。而一个标签则可以同时属于多个class，可以用 .class_1.class_2 表示选择该标签的2个class进行匹配。\n",
    "# 元素属性选择：[属性=值]，多个属性的话直接连接即可，[属性_1=值_1][属性_1=值_2]\n",
    "# 例子，选择以下元素<div id=su class=\"name1 name2\" size=100 show=popup>Some Text</div>\n",
    "# - div#su.name1.name2[size=100][show=popup]\n",
    "# - 因为id一般唯一，所以 #su 也足够表达。div.name1 如果能唯一识别也可以用的。"
   ]
  },
  {
   "cell_type": "code",
   "execution_count": 19,
   "metadata": {
    "collapsed": true
   },
   "outputs": [],
   "source": [
    "# bs4网页解析\n",
    "# 安装：pip install bs4"
   ]
  },
  {
   "cell_type": "code",
   "execution_count": 20,
   "metadata": {
    "collapsed": false
   },
   "outputs": [
    {
     "name": "stdout",
     "output_type": "stream",
     "text": [
      "ISO-8859-1\n"
     ]
    },
    {
     "data": {
      "text/plain": [
       "'百度一下'"
      ]
     },
     "execution_count": 20,
     "metadata": {},
     "output_type": "execute_result"
    }
   ],
   "source": [
    "# 结合requests找到百度提交按钮\n",
    "import requests\n",
    "from bs4 import BeautifulSoup\n",
    "\n",
    "resp = requests.get('http://www.baidu.com')\n",
    "print(resp.encoding)\n",
    "# encode: 字符串 -> 二进制字节\n",
    "# decode: 二进制字节 -> 字符串\n",
    "text = resp.text.encode('iso-8859-1').decode('utf-8') # 编码问题校正\n",
    "bs = BeautifulSoup(text, 'html5lib') # 模式使用lxml，但是html属于不严谨的xml。\n",
    "su = bs.select('#su')[0] # BeautifulSoup的select是找到所有满足条件的元素并返回数组\n",
    "su.get('value')"
   ]
  },
  {
   "cell_type": "code",
   "execution_count": 21,
   "metadata": {
    "collapsed": false
   },
   "outputs": [
    {
     "name": "stdout",
     "output_type": "stream",
     "text": [
      "北京市\n",
      "\t通县, 101100\n",
      "\t东城区, 100010\n",
      "\t西城区, 100032\n",
      "\t崇文区, 100061\n",
      "\t宣武区, 100054\n",
      "\t朝阳区, 100020\n",
      "\t丰台区, 100071\n",
      "\t石景山区, 100043\n",
      "\t海淀区, 100080\n",
      "\t门头沟区, 102300\n",
      "\t房山区, 102400\n",
      "\t通州区, 101100\n",
      "\t顺义区, 101300\n",
      "\t昌平区, 102200\n",
      "\t大兴区, 102600\n",
      "\t怀柔区, 101400\n",
      "\t平谷区, 101200\n",
      "\t密云区, 101500\n",
      "\t延庆区, 102100\n",
      "\t北京市, 100000\n"
     ]
    }
   ],
   "source": [
    "# 抓取全国各地邮政编码与长途区号（自己加一点代码）\n",
    "BASE_URL = 'http://www.ip138.com'\n",
    "UA = 'Mozilla/5.0 (Macintosh; Intel Mac OS X 10_12_5) AppleWebKit/537.36 (KHTML, like Gecko) Chrome/59.0.3071.115 Safari/537.36'\n",
    "HEADERS = {'user-agent':UA}\n",
    "\n",
    "def handle_zip_code(province, url):\n",
    "    print(province)\n",
    "    resp = requests.get(url, headers=HEADERS)\n",
    "    text = resp.text.encode('iso-8859-1').decode('gbk')\n",
    "    bs = BeautifulSoup(text, 'html5lib')\n",
    "    rows = bs.select('table.t12 > tbody > tr')\n",
    "    for i in range(1, len(rows)):\n",
    "        items = rows[i].select('td')\n",
    "        t_1 = items[0].text.strip()\n",
    "        if t_1:\n",
    "            print('\\t%s, %s' % (t_1, items[1].text.strip()))\n",
    "        if len(items) > 4:\n",
    "            t_2 = items[3].text.strip()\n",
    "            if t_2:\n",
    "                print('\\t%s, %s' % (t_2, items[4].text.strip()))\n",
    "    \n",
    "resp = requests.get(BASE_URL + '/post', headers=HEADERS)\n",
    "text = resp.text.encode('iso-8859-1').decode('gbk')\n",
    "bs = BeautifulSoup(text, 'html5lib')\n",
    "for item in bs.select('div#newAlexa > table.t4 > tbody > tr > td > a'):\n",
    "    handle_zip_code(item.text, BASE_URL + item.get('href'))\n",
    "    break # 不然显示内容太多"
   ]
  },
  {
   "cell_type": "code",
   "execution_count": 23,
   "metadata": {
    "collapsed": false
   },
   "outputs": [
    {
     "name": "stdout",
     "output_type": "stream",
     "text": [
      "[<tr>\n",
      "            <td>row 1, cell 1</td>\n",
      "            <td>row 1, cell 2</td>\n",
      "        </tr>, <tr>\n",
      "            <td>row 2, cell 1</td>\n",
      "            <td>row 2, cell 2</td>\n",
      "        </tr>]\n"
     ]
    }
   ],
   "source": [
    "# 定位器的小坑\n",
    "text = ''\n",
    "with open('sample.html', 'r', encoding='utf-8') as f:\n",
    "    text = f.read()\n",
    "bs = BeautifulSoup(text, 'html5lib')\n",
    "rows = bs.select('table > tbody > tr')\n",
    "print(rows)"
   ]
  },
  {
   "cell_type": "code",
   "execution_count": 24,
   "metadata": {
    "collapsed": true
   },
   "outputs": [],
   "source": [
    "# Selenium安装配置\n",
    "# 1. 安装python的selenium包：pip install selenium\n",
    "# 2. Selenium驱动（Chrome）下载：https://sites.google.com/a/chromium.org/chromedriver/downloads\n",
    "# 3. 驱动下载后放在任意位置，但需要把路径添加到PATH环境变量。"
   ]
  },
  {
   "cell_type": "code",
   "execution_count": 25,
   "metadata": {
    "collapsed": false
   },
   "outputs": [
    {
     "name": "stdout",
     "output_type": "stream",
     "text": [
      "百度一下\n"
     ]
    }
   ],
   "source": [
    "# 使用示例\n",
    "from selenium import webdriver\n",
    "options = webdriver.ChromeOptions() # 创建driver的参数，可选。\n",
    "# options.add_argument('--headless')\n",
    "# options.add_argument('--disable-gpu')\n",
    "# options.add_argument('--ignore-certificate-errors')\n",
    "driver = webdriver.Chrome(chrome_options=options)\n",
    "driver.get('http://www.baidu.com')\n",
    "element = driver.find_element_by_css_selector('#su')\n",
    "print(element.get_attribute('value'))\n",
    "driver.quit()"
   ]
  },
  {
   "cell_type": "code",
   "execution_count": null,
   "metadata": {
    "collapsed": false,
    "scrolled": false
   },
   "outputs": [
    {
     "name": "stdout",
     "output_type": "stream",
     "text": [
      "https://www.baidu.com/s?ie=utf-8&f=8&rsv_bp=0&rsv_idx=1&tn=baidu&wd=python&rsv_pq=f780878d0000b8de&rsv_t=ed62O%2B2XLswjhmVCKwNOj9rbSjfyXn%2Bv9jsPWPfgjeDy79MEXlCUNPzmtCc&rqlang=cn&rsv_enter=0&rsv_sug3=6&rsv_sug1=1&rsv_sug7=100&inputT=1611&rsv_sug4=1612\n",
      "python的学习_从入门到精通-网易云课堂 http://www.baidu.com/baidu.php?url=a000000pGFTBfqUxhtea19sQncgv-SFyvDqoeTEEBPCVPzx3ODM_IAZrIulRNXfT_ZZoLGp2s4YVX-NmKnQmDTMNRiAO6iwPpZOy6F4Ggb8PBjn10OojT8Vvcl_K9fpdXeW3eIC24D6QBnVzwAGE0N_oZUVH0IpwJ1SWf56739igh8jOz6.7D_iwYn7vWzolX2ccypaIHGVDZuuuuuuuuug8zyIhHE6CpXyPvap7Q7erQKdsRP5QGHTOKGm9ksqT7jHzs_lTUQqRHjrEySBqh6Mo6CpXy6hUikqOYryzEWIdsRP5Qal26h26kS5MODRojPakbzyI57f.U1Yk0ZDqTZ-YpAq80ZKGm1Yk0ZfqTZ-YpAq8VTHwGtSs0A-V5HcsP0KM5yF8nj00Iybqmh7GuZR0TA-b5Hc0mv-b5HfsPfKVIjYknjD4g1DsnHIxn1czr7t1PW0k0AVG5H00TMfqnWTv0ANGujYkPjR4g1cknHDkg1csrHns0AFG5HcsP7tkPHR0UynqP1DkPWR4nHmvg1TknWD3nHRLPNtknjFxn0KkTA-b5H00TyPGujYs0ZFMIA7M5H00mycqn7ts0ANzu1Ys0ZKs5H00UMus5H08nj0snj0snj00Ugws5H00uAwETjYs0ZFJ5H00uANv5gKW0AuY5H00TA6qn0KET1Ys0AFL5HDs0A4Y5H00TLCq0ZwdT1YLnjRkrjDLP10dPHmYPWbknWnL0ZF-TgfqnHRkP1c1PjDYnHT3P6K1pyfqrjn3ujwWPhfsnj0smH6vn0KWTvYqnj9arHF7rRfsnbRvnHN7PsK9m1Yk0ZK85H00TydY5H00Tyd15H00XMfqn0KVmdqhThqV5HKxn7tsg100uA78IyF-gLK_my4GuZnqn7tsg1csnWTLPW-xn0Ksmgwxuhk9u1Ys0AwWpyfqn0K-IA-b5iYk0A71TAPW5H00IgKGUhPW5H00Tydh5H00uhPdIjYs0AulpjYs0Au9IjYs0ZGsUZN15H00mywhUA7M5HD0UAuW5H00mLFW5HRLPWm&ck=0.0.0.0.0.0.0.0&shh=www.baidu.com&sht=baidu\n",
      " http://www.baidu.com/baidu.php?url=a000000pGFTBfqUxhtea19sQncgv-SFyvDqoeTEEBPCVPzx3ODM_IAZrIulRNXfT_ZZoLGp2s4YVX-NmKnQmDTMNRiAO6iwPpZOy6F4Ggb8PBjn10OojT8Vvcl_K9fpdXeW3eIC24D6QBnVzwAGE0N_oZUVH0IpwJ1SWf56739igh8jOz6.7D_iwYn7vWzolX2ccypaIHGVDZuuuuuuuuug8zyIhHE6CpXyPvap7Q7erQKdsRP5QGHTOKGm9ksqT7jHzs_lTUQqRHjrEySBqh6Mo6CpXy6hUikqOYryzEWIdsRP5Qal26h26kS5MODRojPakbzyI57f.U1Yk0ZDqTZ-YpAq80ZKGm1Yk0ZfqTZ-YpAq8VTHwGtSs0A-V5HcsP0KM5yF8nj00Iybqmh7GuZR0TA-b5Hc0mv-b5HfsPfKVIjYknjD4g1DsnHIxn1czr7t1PW0k0AVG5H00TMfqnWTv0ANGujYkPjR4g1cknHDkg1csrHns0AFG5HcsP7tkPHR0UynqP1DkPWR4nHmvg1TknWD3nHRLPNtknjFxn0KkTA-b5H00TyPGujYs0ZFMIA7M5H00mycqn7ts0ANzu1Ys0ZKs5H00UMus5H08nj0snj0snj00Ugws5H00uAwETjYs0ZFJ5H00uANv5gKW0AuY5H00TA6qn0KET1Ys0AFL5HDs0A4Y5H00TLCq0ZwdT1YLnjRkrjDLP10dPHmYPWbknWnL0ZF-TgfqnHRkP1c1PjDYnHT3P6K1pyfqrjn3ujwWPhfsnj0smH6vn0KWTvYqnj9arHF7rRfsnbRvnHN7PsK9m1Yk0ZK85H00TydY5H00Tyd15H00XMfqn0KVmdqhThqV5HKxn7tsg100uA78IyF-gLK_my4GuZnqn7tsg1csnWTLPW-xn0Ksmgwxuhk9u1Ys0AwWpyfqn0K-IA-b5iYk0A71TAPW5H00IgKGUhPW5H00Tydh5H00uhPdIjYs0AulpjYs0Au9IjYs0ZGsUZN15H00mywhUA7M5HD0UAuW5H00mLFW5HRLPWm&ck=0.0.0.0.0.0.0.0&shh=www.baidu.com&sht=baidu\n",
      "Welcome to Python.org http://www.baidu.com/link?url=6Je9d8jBNX_tkpFGgGVa8LgpjFtfPb8YjXxcM_Wtt-aQh8tX929lIrEuixmxVK2L\n",
      "官网 http://trust.baidu.com/vstar/official/intro?type=gw\n",
      "Python_百度百科 http://www.baidu.com/link?url=697I020hC0aTVEpGc59mJAInPda6E3gPyY_OMK6e6Z4GbQg-uZhjU78diy06GMFEtTdMfsTt0xPsmkQE_soG7a\n",
      "Download Python | Python.org http://www.baidu.com/link?url=RodNX4Kc4sAk62uU5FpOqxg4clOuI0mo2Ej6TLYaf9e-Y4e2Z-vAGtc3bbNhWKq1\n",
      "Python 基础教程 | 菜鸟教程 http://www.baidu.com/link?url=Tam6dewPHKr47uUuaas0RbZ3sp71Dr00CCE4xYcOLKsyXNshGyx3DirfzCEsQST77ZGtKatG8A_nlLD-ahp1l_\n",
      "Python教程 - 廖雪峰的官方网站 http://www.baidu.com/link?url=t-HcKJ_eXsReQBpSbYZ3DlcLz-NAcHU7vTNy-kWWETk0qX3Myj93eyXVt-cl7IZjafY-LexnyxF8_B-FLju-Pb0G1-ZeXgorXtAiLLngVLUEn5KrY_uRqecWoe_pOsEq\n",
      "PythonTab:Python中文开发者社区门户 http://www.baidu.com/link?url=p3aulR_b2zauEUSlO_setTgvIf2FZVMcFxW8oT3wkMjg2kamg1OO3AUZGCJpQVJk\n",
      "Python 简介 | 菜鸟教程 http://www.baidu.com/link?url=w42MhHCLwVHd9-ot66_-z-FRMMRxD-cMhPOE5jwA-X5OqHdRmAw9IT_fANtDYiX-um5e5GzLdmxxILGijsaOX_\n",
      "Python3 教程 | 菜鸟教程 http://www.baidu.com/link?url=VWYH3p0RVKUOjQtluqSp81HrGpR0NwkDOy2t5f_Rep2BKYFVm2SkuKl-d40EbBjUGBHqVmswaT_m6M9D9QCGya\n",
      "python | 树莓派实验室 http://www.baidu.com/link?url=ZfL0UwyEaHY79hKUTPn_SJqPapjV4kd3kxam0y7wmvs2ZDSF37XE_1UG5gBb06Fa\n",
      "达内python:【Python+人工智能+大数据分析】 http://www.baidu.com/baidu.php?url=a000000pGFTBfqUxhkCK7hb-SrOLFhLTJaS50J1e_bv0cgaKoO5CchOHybLU_yILdUGsoyo-fK_tlQQW-1E10DPa6rCeggUCJDMS7EntBBI6omqpz156R2no91PXwDjklKEczegLKkrtp3imb55wTgF-xlZvTXNMIqQ1cVQIJaGgwdSyC6.DY_iwdXy5wfJI74RDLmrij9Cfmq7aGYRZxqjvOlO5tEV4mlEuMWJ1SEz1OhSZ5S534tXB9RlQ5vs4lePq-IhHIM__zulq--III-MWgYe8gqjvOlO5tEVRojPakgvyI26.U1Yk0ZDqTZ-YpAq80ZKGm1Ys0ZfqTZ-YpAq80A-V5HczPsKM5yF8nj00Iybqmh7GuZR0TA-b5Hc0mv-b5HfsPfKVIjYknjD4g1DsnHIxn1czr7t1PW0k0AVG5H00TMfqnWTv0ANGujYkPjR4g1cknHDkg1csrHns0AFG5HcsP0KVm1YLnHbsrj0dn1-xP1D4PHbvPHDLg1Dsn-ts0Z7spyfqn0Kkmv-b5H00ThIYmyTqn0K9mWYsg100ugFM5H00TZ0qn0K8IM0qna3snj0snj0sn0KVIZ0qn0KbuAqs5H00ThCqn0KbugmqTAn0uMfqn0KspjYs0Aq15H00mMTqnH00UMfqn0K1XWY0IZN15HDznWn3nHnkrHT4P1c4nW03njTk0ZF-TgfqnHRkP1c1PjDYnHT3P6K1pyfqrjn3ujwWPhfsnj0smH6vn0KWTvYqnj9arHF7rRfsnbRvnHN7PsK9m1Yk0ZK85H00TydY5H00Tyd15H00XMfqn0KVmdqhThqV5HKxn7tsg100uA78IyF-gLK_my4GuZnqn7tsg1czPW6YP1Pxn0Ksmgwxuhk9u1Ys0AwWpyfqn0K-IA-b5iYk0A71TAPW5H00IgKGUhPW5H00Tydh5H00uhPdIjYs0AulpjYs0Au9IjYs0ZGsUZN15H00mywhUA7M5HD0UAuW5H00mLFW5Hc4njb3&ck=0.0.0.0.0.0.0.0&shh=www.baidu.com&sht=baidu\n",
      " http://www.baidu.com/baidu.php?url=a000000pGFTBfqUxhkCK7hb-SrOLFhLTJaS50J1e_bv0cgaKoO5CchOHybLU_yILdUGsoyo-fK_tlQQW-1E10DPa6rCeggUCJDMS7EntBBI6omqpz156R2no91PXwDjklKEczegLKkrtp3imb55wTgF-xlZvTXNMIqQ1cVQIJaGgwdSyC6.DY_iwdXy5wfJI74RDLmrij9Cfmq7aGYRZxqjvOlO5tEV4mlEuMWJ1SEz1OhSZ5S534tXB9RlQ5vs4lePq-IhHIM__zulq--III-MWgYe8gqjvOlO5tEVRojPakgvyI26.U1Yk0ZDqTZ-YpAq80ZKGm1Ys0ZfqTZ-YpAq80A-V5HczPsKM5yF8nj00Iybqmh7GuZR0TA-b5Hc0mv-b5HfsPfKVIjYknjD4g1DsnHIxn1czr7t1PW0k0AVG5H00TMfqnWTv0ANGujYkPjR4g1cknHDkg1csrHns0AFG5HcsP0KVm1YLnHbsrj0dn1-xP1D4PHbvPHDLg1Dsn-ts0Z7spyfqn0Kkmv-b5H00ThIYmyTqn0K9mWYsg100ugFM5H00TZ0qn0K8IM0qna3snj0snj0sn0KVIZ0qn0KbuAqs5H00ThCqn0KbugmqTAn0uMfqn0KspjYs0Aq15H00mMTqnH00UMfqn0K1XWY0IZN15HDznWn3nHnkrHT4P1c4nW03njTk0ZF-TgfqnHRkP1c1PjDYnHT3P6K1pyfqrjn3ujwWPhfsnj0smH6vn0KWTvYqnj9arHF7rRfsnbRvnHN7PsK9m1Yk0ZK85H00TydY5H00Tyd15H00XMfqn0KVmdqhThqV5HKxn7tsg100uA78IyF-gLK_my4GuZnqn7tsg1czPW6YP1Pxn0Ksmgwxuhk9u1Ys0AwWpyfqn0K-IA-b5iYk0A71TAPW5H00IgKGUhPW5H00Tydh5H00uhPdIjYs0AulpjYs0Au9IjYs0ZGsUZN15H00mywhUA7M5HD0UAuW5H00mLFW5Hc4njb3&ck=0.0.0.0.0.0.0.0&shh=www.baidu.com&sht=baidu\n",
      "【千锋教育】python_人工智能+Python全栈+数据分析+项目实战.. http://www.baidu.com/baidu.php?url=a000000pGFTBfqUxhOo65WV2KDLUqBksBlk7CSuEHC3yutLyF3lYGCipiQt_zCRJipjz0_II2GvMm7UZFK4p0gZVHKws-TqgE3HcpEbjZJUSJlPkbFjtrK_Qq07LXfXmzK2n-rF3-KvFnIBBSdPDb9rddsYkt_bq1mCw4AmMPrYtBSssk6.DR_jilqq7Pau-tgblUNKWudF6kl27HCCrS5wfJI7xIfdnmq7aGYH7xHubzUo2qSki_nYQZZI34Pl60.U1Yz0ZDqTZ-YpAq80ZKGm1Ys0ZfqTZ-YpAq80A-V5HczPsKM5yF8nj00Iybqmh7GuZR0TA-b5Hc0mv-b5HfsPfKVIjYznHnsg1DsnHIxnW0vn-tknjD4g1nvnjD0pvbqn0KzIjYzP1m0uy-b5HDYPH-xnWDknH7xnW04n100mhbqnW0Y0AdW5HnsPHRknjm4nW9xP1D4PHbzrHT1g1c1PH6drHRzrH9xP1D4PHbzrHT4g100TgKGujYs0Z7Wpyfqn0KzuLw9u1Ys0A7B5HKxn0K-ThTqn0KsTjYs0A4vTjYsQW0snj0snj0s0AdYTjYs0AwbUL0qn0KzpWYs0Aw-IWdsmsKhIjYs0ZKC5H00ULnqn0KBI1Ykn0K8IjYs0ZPl5fKYIgnqnH0kPW01rHR4njDdnjfzPjn4nHc0ThNkIjYkPHDLnWnYnHfkP16v0ZPGujY3n19bPAnvuj0snjK9rjms0AP1UHYsrDc4nbR4wj0zwHmkPRRL0A7W5HD0TA3qn0KkUgfqn0KkUgnqn0KlIjYs0AdWgvuzUvYqn7tsg1Kxn7ts0Aw9UMNBuNqsUA78pyw15HKxn7tsg1Kxn0Ksmgwxuhk9u1Ys0AwWpyfqnWm3PjndPjRv0ANYpyfqQHD0mgPsmvnqn0KdTA-8mvnqn0KkUymqn0KhmLNY5H00uMGC5H00uh7Y5H00XMK_Ignqn0K9uAu_myTqnfK_uhnqn0KWThnqn16dP1n&ck=0.0.0.0.0.0.0.0&shh=www.baidu.com&sht=baidu\n",
      " http://www.baidu.com/baidu.php?url=a000000pGFTBfqUxhOo65WV2KDLUqBksBlk7CSuEHC3yutLyF3lYGCipiQt_zCRJipjz0_II2GvMm7UZFK4p0gZVHKws-TqgE3HcpEbjZJUSJlPkbFjtrK_Qq07LXfXmzK2n-rF3-KvFnIBBSdPDb9rddsYkt_bq1mCw4AmMPrYtBSssk6.DR_jilqq7Pau-tgblUNKWudF6kl27HCCrS5wfJI7xIfdnmq7aGYH7xHubzUo2qSki_nYQZZI34Pl60.U1Yz0ZDqTZ-YpAq80ZKGm1Ys0ZfqTZ-YpAq80A-V5HczPsKM5yF8nj00Iybqmh7GuZR0TA-b5Hc0mv-b5HfsPfKVIjYznHnsg1DsnHIxnW0vn-tknjD4g1nvnjD0pvbqn0KzIjYzP1m0uy-b5HDYPH-xnWDknH7xnW04n100mhbqnW0Y0AdW5HnsPHRknjm4nW9xP1D4PHbzrHT1g1c1PH6drHRzrH9xP1D4PHbzrHT4g100TgKGujYs0Z7Wpyfqn0KzuLw9u1Ys0A7B5HKxn0K-ThTqn0KsTjYs0A4vTjYsQW0snj0snj0s0AdYTjYs0AwbUL0qn0KzpWYs0Aw-IWdsmsKhIjYs0ZKC5H00ULnqn0KBI1Ykn0K8IjYs0ZPl5fKYIgnqnH0kPW01rHR4njDdnjfzPjn4nHc0ThNkIjYkPHDLnWnYnHfkP16v0ZPGujY3n19bPAnvuj0snjK9rjms0AP1UHYsrDc4nbR4wj0zwHmkPRRL0A7W5HD0TA3qn0KkUgfqn0KkUgnqn0KlIjYs0AdWgvuzUvYqn7tsg1Kxn7ts0Aw9UMNBuNqsUA78pyw15HKxn7tsg1Kxn0Ksmgwxuhk9u1Ys0AwWpyfqnWm3PjndPjRv0ANYpyfqQHD0mgPsmvnqn0KdTA-8mvnqn0KkUymqn0KhmLNY5H00uMGC5H00uh7Y5H00XMK_Ignqn0K9uAu_myTqnfK_uhnqn0KWThnqn16dP1n&ck=0.0.0.0.0.0.0.0&shh=www.baidu.com&sht=baidu\n",
      "Python教程 - 免费教程 http://www.baidu.com/baidu.php?url=a000000pGFTBfqUxhOqUADWfwvJ73lIXSJs5_ZjnqJDojiLDsx9I8O3UiT8E7vIKlApGV2L7xj1aamAtcPVseEkNevquxJSd1NxjOfH3nqZ1j9Ot97KwykFDvWdf_4m93B57xEz_9ipfM_uUyXqFmcAKTgk7EUanoQc0TmNuqrifBLWsU6.Db_iwGYSRIHqyKMPvGYc6WJxJsn4CZYcnXB9Rl2jZjvf2N9h9mzU_-h4f0.U1Y10ZDqTZ-YpAq80ZKGm1Ys0ZfqTZ-YpAq80A-V5HczPsKM5yF8nj00Iybqmh7GuZR0TA-b5Hc0mv-b5HfsPfKVIjYknjDLg1csPWFxnH0krNt1PW0k0AVG5H00TMfqnWTv0ANGujYkPjR4g1cknHDkg1csrHns0AFG5HcsP0KVm1YLnHmYrH6znHPxn1fLn1T3rjbYPNtLnHmdnjc4rH7xn0KkTA-b5H00TyPGujYs0ZFMIA7M5H00mycqn7ts0ANzu1Ys0ZKs5H00UMus5H08nj0snj0snj00Ugws5H00uAwETjYs0ZFJ5H00uANv5gKW0AuY5H00TA6qn0KET1Ys0AFL5HDs0A4Y5H00TLCq0ZwdT1YznjDLPHD1n1Tvn1DsrHR3nHm40ZF-TgfqnHRkP1c1PjDYnHT3P6K1pyfqrjn3ujwWPhfsnj0smH6vn0KWTvYqnj9arHF7rRfsnbRvnHN7PsK9m1Yk0ZK85H00TydY5H00Tyd15H00XMfqn0KVmdqhThqV5HKxn7tsg100uA78IyF-gLK_my4GuZnqn7tsg1Kxn0Ksmgwxuhk9u1Ys0AwWpyfqn0K-IA-b5iYk0A71TAPW5H00IgKGUhPW5H00Tydh5H00uhPdIjYs0AulpjYs0Au9IjYs0ZGsUZN15H00mywhUA7M5HD0UAuW5H00mLFW5HnkPjDz&ck=0.0.0.0.0.0.0.0&shh=www.baidu.com&sht=baidu\n",
      " http://www.baidu.com/baidu.php?url=a000000pGFTBfqUxhOqUADWfwvJ73lIXSJs5_ZjnqJDojiLDsx9I8O3UiT8E7vIKlApGV2L7xj1aamAtcPVseEkNevquxJSd1NxjOfH3nqZ1j9Ot97KwykFDvWdf_4m93B57xEz_9ipfM_uUyXqFmcAKTgk7EUanoQc0TmNuqrifBLWsU6.Db_iwGYSRIHqyKMPvGYc6WJxJsn4CZYcnXB9Rl2jZjvf2N9h9mzU_-h4f0.U1Y10ZDqTZ-YpAq80ZKGm1Ys0ZfqTZ-YpAq80A-V5HczPsKM5yF8nj00Iybqmh7GuZR0TA-b5Hc0mv-b5HfsPfKVIjYknjDLg1csPWFxnH0krNt1PW0k0AVG5H00TMfqnWTv0ANGujYkPjR4g1cknHDkg1csrHns0AFG5HcsP0KVm1YLnHmYrH6znHPxn1fLn1T3rjbYPNtLnHmdnjc4rH7xn0KkTA-b5H00TyPGujYs0ZFMIA7M5H00mycqn7ts0ANzu1Ys0ZKs5H00UMus5H08nj0snj0snj00Ugws5H00uAwETjYs0ZFJ5H00uANv5gKW0AuY5H00TA6qn0KET1Ys0AFL5HDs0A4Y5H00TLCq0ZwdT1YznjDLPHD1n1Tvn1DsrHR3nHm40ZF-TgfqnHRkP1c1PjDYnHT3P6K1pyfqrjn3ujwWPhfsnj0smH6vn0KWTvYqnj9arHF7rRfsnbRvnHN7PsK9m1Yk0ZK85H00TydY5H00Tyd15H00XMfqn0KVmdqhThqV5HKxn7tsg100uA78IyF-gLK_my4GuZnqn7tsg1Kxn0Ksmgwxuhk9u1Ys0AwWpyfqn0K-IA-b5iYk0A71TAPW5H00IgKGUhPW5H00Tydh5H00uhPdIjYs0AulpjYs0Au9IjYs0ZGsUZN15H00mywhUA7M5HD0UAuW5H00mLFW5HnkPjDz&ck=0.0.0.0.0.0.0.0&shh=www.baidu.com&sht=baidu\n",
      "python免费试用_重磅福利_华为云助您敏捷上云 http://www.baidu.com/baidu.php?url=a000000pGFTBfqUxhdCmpLdBeXbpfn1xIwx1PqYUSpdHRYUc4pKebFQgrsjpOSx4eNMZxnzZSnrsKAigSC6twp-rDl-AbhCSA0HLrjMm0U9vgSULaAJZWSFnEJKah2DzYruEi1ozuRaBg546NBrOdOm2Mfd_0zLDAFJD3MNn6XmgBlmXQs.7b_insYZOfS9CtJ_j50-tP7va4D7zxCHwIWHPz3lQnRALMLsRP5QAeKPa-Wdukmr8a9G4I2UM3PQDrrZo6CpXy7MHWuxJBmsSxW9qVhZxvmx5ksSLx9qXM59tSMjElT5oEsSxH9qVXZu_13x5u9qx-9qEdsSxu9qxgjlqrZ1Lmxg3Trz1j4e_r1l3IqXZ1en5oeTrSEo6CpXy7YNKnNKWj4SrZvvmIOu9tOZjeISZdlTSZ1vmxg4mxUqT5MvmxgdsSEH9tqvZdSZj__sSXej_S8Zxg9tS1jlSLjEo13x5GseO9sSLl3x5u9qEdsSL4IT7jHzYD1py51p27HC-2s1f_U_Mu8R.U1YY0ZDqTZ-YpAq80ZKGm1Ys0ZfqTZ-YpAq80A-V5HczPsKM5yF8nj00Iybqmh7GuZR0TA-b5Hc0mv-b5HfsPfKVIjYknjDLg1csPWFxnH0kndtknjD4g1nvnjD0pvbqn0KzIjYzP1m0uy-b5HDYPH-xnWDknH7xnW04n100mhbqnW0Y0AdW5HTkrHc4rH0Yndtzrj0vnjckPHDkg1cLrHmvnjmsPjwxnH0snNts0Z7spyfqn0Kkmv-b5H00ThIYmyTqn0K9mWYsg100ugFM5H00TZ0qn0K8IM0qna3snj0snj0sn0KVIZ0qn0KbuAqs5H00ThCqn0KbugmqTAn0uMfqn0KspjYs0Aq15H00mMTqnH00UMfqn0K1XWY0IZN15H6kPWn4Pj6YP1bLP1D4PWD3P160ThNkIjYkPHDLnWnYnHfkP16v0ZPGujY3n19bPAnvuj0snjK9rjms0AP1UHYsrDc4nbR4wj0zwHmkPRRL0A7W5HD0TA3qn0KkUgfqn0KkUgnqn0KlIjYs0AdWgvuzUvYqn7tsg1Kxn7ts0Aw9UMNBuNqsUA78pyw15HKxn7tsg1Kxn0Ksmgwxuhk9u1Ys0AwWpyfqn0K-IA-b5iYk0A71TAPW5H00IgKGUhPW5H00Tydh5H00uhPdIjYs0AulpjYs0Au9IjYs0ZGsUZN15H00mywhUA7M5HD0UAuW5H00mLFW5HnLnjfz&ck=0.0.0.0.0.0.0.0&shh=www.baidu.com&sht=baidu\n",
      " http://www.baidu.com/baidu.php?url=a000000pGFTBfqUxhdCmpLdBeXbpfn1xIwx1PqYUSpdHRYUc4pKebFQgrsjpOSx4eNMZxnzZSnrsKAigSC6twp-rDl-AbhCSA0HLrjMm0U9vgSULaAJZWSFnEJKah2DzYruEi1ozuRaBg546NBrOdOm2Mfd_0zLDAFJD3MNn6XmgBlmXQs.7b_insYZOfS9CtJ_j50-tP7va4D7zxCHwIWHPz3lQnRALMLsRP5QAeKPa-Wdukmr8a9G4I2UM3PQDrrZo6CpXy7MHWuxJBmsSxW9qVhZxvmx5ksSLx9qXM59tSMjElT5oEsSxH9qVXZu_13x5u9qx-9qEdsSxu9qxgjlqrZ1Lmxg3Trz1j4e_r1l3IqXZ1en5oeTrSEo6CpXy7YNKnNKWj4SrZvvmIOu9tOZjeISZdlTSZ1vmxg4mxUqT5MvmxgdsSEH9tqvZdSZj__sSXej_S8Zxg9tS1jlSLjEo13x5GseO9sSLl3x5u9qEdsSL4IT7jHzYD1py51p27HC-2s1f_U_Mu8R.U1YY0ZDqTZ-YpAq80ZKGm1Ys0ZfqTZ-YpAq80A-V5HczPsKM5yF8nj00Iybqmh7GuZR0TA-b5Hc0mv-b5HfsPfKVIjYknjDLg1csPWFxnH0kndtknjD4g1nvnjD0pvbqn0KzIjYzP1m0uy-b5HDYPH-xnWDknH7xnW04n100mhbqnW0Y0AdW5HTkrHc4rH0Yndtzrj0vnjckPHDkg1cLrHmvnjmsPjwxnH0snNts0Z7spyfqn0Kkmv-b5H00ThIYmyTqn0K9mWYsg100ugFM5H00TZ0qn0K8IM0qna3snj0snj0sn0KVIZ0qn0KbuAqs5H00ThCqn0KbugmqTAn0uMfqn0KspjYs0Aq15H00mMTqnH00UMfqn0K1XWY0IZN15H6kPWn4Pj6YP1bLP1D4PWD3P160ThNkIjYkPHDLnWnYnHfkP16v0ZPGujY3n19bPAnvuj0snjK9rjms0AP1UHYsrDc4nbR4wj0zwHmkPRRL0A7W5HD0TA3qn0KkUgfqn0KkUgnqn0KlIjYs0AdWgvuzUvYqn7tsg1Kxn7ts0Aw9UMNBuNqsUA78pyw15HKxn7tsg1Kxn0Ksmgwxuhk9u1Ys0AwWpyfqn0K-IA-b5iYk0A71TAPW5H00IgKGUhPW5H00Tydh5H00uhPdIjYs0AulpjYs0Au9IjYs0ZGsUZN15H00mywhUA7M5HD0UAuW5H00mLFW5HnLnjfz&ck=0.0.0.0.0.0.0.0&shh=www.baidu.com&sht=baidu\n"
     ]
    }
   ],
   "source": [
    "# 模拟百度搜索\n",
    "import time\n",
    "\n",
    "driver = webdriver.Chrome()\n",
    "driver.maximize_window()\n",
    "driver.get('http://www.baidu.com')\n",
    "time.sleep(1)\n",
    "search_input = driver.find_element_by_css_selector('input#kw')\n",
    "search_input.send_keys('python')\n",
    "time.sleep(1)\n",
    "submit = driver.find_element_by_css_selector('input#su')\n",
    "submit.click() # 如果click无效，可以尝试driver.execute_script('arguments[0].click();', element)\n",
    "time.sleep(1)\n",
    "print(driver.current_url)\n",
    "results = driver.find_elements_by_css_selector('h3 > a')\n",
    "for result in results:\n",
    "    print(result.text, result.get_attribute('href'))\n",
    "driver.quit()\n",
    "\n",
    "# 思考题：百度格式的url如何转换成标准url？"
   ]
  },
  {
   "cell_type": "code",
   "execution_count": null,
   "metadata": {
    "collapsed": false
   },
   "outputs": [
    {
     "name": "stdout",
     "output_type": "stream",
     "text": [
      "1020 13817\n"
     ]
    }
   ],
   "source": [
    "# 利用selenium制作截图工具\n",
    "options = webdriver.ChromeOptions()\n",
    "options.add_argument('--headless') # 如果截图不正确请先检查option\n",
    "options.add_argument('--disable-gpu')\n",
    "driver = webdriver.Chrome(chrome_options=options) # 带options的初始化\n",
    "driver.get('http://news.sina.com.cn')\n",
    "width = driver.execute_script('return Math.max(document.body.scrollWidth, document.body.offsetWidth, document.documentElement.clientWidth, document.documentElement.scrollWidth, document.documentElement.offsetWidth);')\n",
    "height = driver.execute_script('return Math.max(document.body.scrollHeight, document.body.offsetHeight, document.documentElement.clientHeight, document.documentElement.scrollHeight, document.documentElement.offsetHeight);')\n",
    "print(width, height)\n",
    "driver.set_window_size(width, height) # 告诉driver截图大小区域\n",
    "driver.save_screenshot('sina_news.jpg')\n",
    "driver.quit()"
   ]
  },
  {
   "cell_type": "code",
   "execution_count": null,
   "metadata": {
    "collapsed": true
   },
   "outputs": [],
   "source": [
    "# 编程注意事项！\n",
    "# find_element(s)_by_xxx找不到？\n",
    "# 实际编程建议如下封装\n",
    "def find_element_by_css_selector(driver, css): # driver可以是driver，也可以是某个element\n",
    "    try:\n",
    "        element = driver.find_element_by_css_selector(css):\n",
    "    except:\n",
    "        element = None\n",
    "    return element\n",
    "\n",
    "def find_elements_by_css_selector(driver, css): # driver可以是driver，也可以是某个element\n",
    "    try:\n",
    "        element = driver.find_elements_by_css_selector(css):\n",
    "    except:\n",
    "        element = []\n",
    "    return element\n",
    "# 创建driver建议如此封装\n",
    "def create_chrome_driver(options):\n",
    "    chrome_options = webdriver.ChromeOptions()\n",
    "    for option in options:\n",
    "        chrome_options.add_argument(option)\n",
    "    driver = webdriver.Chrome(chrome_options=chrome_options)\n",
    "    return driver\n",
    "# 如何等待异步元素出现\n",
    "i = 0\n",
    "while True:\n",
    "    element = find_element_by_css_selector(driver, css)\n",
    "    if element:\n",
    "        break\n",
    "    else:\n",
    "        time.sleep(1)\n",
    "        if i >= 10:\n",
    "            break\n",
    "        else:\n",
    "            i += 1\n",
    "# 元素正确找到，但是无法获取内容文本。比如类似以下html：\n",
    "# <div id=content>\n",
    "#     <i>text\n",
    "#     some text<br>\n",
    "# </div>\n",
    "# element.text返回None，怎么办？\n",
    "# element.get_attribute('innerHTML')"
   ]
  },
  {
   "cell_type": "code",
   "execution_count": 25,
   "metadata": {
    "collapsed": true
   },
   "outputs": [],
   "source": [
    "# 作业\n",
    "# 1. 从http://qq.ip138.com/train/入口进入，找到与上海虹桥相关的列车时刻表。\n",
    "#    从入口界面进入后，找到上海，再找到虹桥，然后拿到相关的列车时刻表。\n",
    "# 2. 利用selenium实现豆瓣用户名/密码登陆，\n",
    "#    如果有验证码，提示用户在命令行交互界面输入，然后再由selenium提交验证码。"
   ]
  },
  {
   "cell_type": "code",
   "execution_count": null,
   "metadata": {
    "collapsed": true
   },
   "outputs": [],
   "source": []
  }
 ],
 "metadata": {
  "kernelspec": {
   "display_name": "Python 3",
   "language": "python",
   "name": "python3"
  },
  "language_info": {
   "codemirror_mode": {
    "name": "ipython",
    "version": 3
   },
   "file_extension": ".py",
   "mimetype": "text/x-python",
   "name": "python",
   "nbconvert_exporter": "python",
   "pygments_lexer": "ipython3",
   "version": "3.6.0"
  }
 },
 "nbformat": 4,
 "nbformat_minor": 2
}
